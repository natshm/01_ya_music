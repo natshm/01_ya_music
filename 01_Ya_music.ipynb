{
 "cells": [
  {
   "cell_type": "markdown",
   "metadata": {
    "id": "E0vqbgi9ay0H"
   },
   "source": [
    "# Яндекс.Музыка"
   ]
  },
  {
   "cell_type": "markdown",
   "metadata": {
    "id": "VUC88oWjTJw2"
   },
   "source": [
    "Сравнение Москвы и Петербурга окружено мифами. Например:\n",
    " * Москва — мегаполис, подчинённый жёсткому ритму рабочей недели;\n",
    " * Петербург — культурная столица, со своими вкусами.\n",
    "\n",
    "На данных Яндекс.Музыки вы сравните поведение пользователей двух столиц.\n",
    "\n",
    "**Цель исследования** — проверьте три гипотезы:\n",
    "1. Активность пользователей зависит от дня недели. Причём в Москве и Петербурге это проявляется по-разному.\n",
    "2. В понедельник утром в Москве преобладают одни жанры, а в Петербурге — другие. Так же и вечером пятницы преобладают разные жанры — в зависимости от города. \n",
    "3. Москва и Петербург предпочитают разные жанры музыки. В Москве чаще слушают поп-музыку, в Петербурге — русский рэп.\n",
    "\n",
    "**Ход исследования**\n",
    "\n",
    "Данные о поведении пользователей вы получите из файла `yandex_music_project.csv`. О качестве данных ничего не известно. Поэтому перед проверкой гипотез понадобится обзор данных. \n",
    "\n",
    "Вы проверите данные на ошибки и оцените их влияние на исследование. Затем, на этапе предобработки вы поищете возможность исправить самые критичные ошибки данных.\n",
    " \n",
    "Таким образом, исследование пройдёт в три этапа:\n",
    " 1. Обзор данных.\n",
    " 2. Предобработка данных.\n",
    " 3. Проверка гипотез.\n",
    "\n"
   ]
  },
  {
   "cell_type": "markdown",
   "metadata": {
    "id": "Ml1hmfXC_Zcs"
   },
   "source": [
    "## Обзор данных\n",
    "\n",
    "Составьте первое представление о данных Яндекс.Музыки.\n",
    "\n",
    "\n"
   ]
  },
  {
   "cell_type": "markdown",
   "metadata": {
    "id": "57eAOGIz_Zcs"
   },
   "source": [
    "Основной инструмент аналитика — `pandas`. Импортируйте эту библиотеку."
   ]
  },
  {
   "cell_type": "code",
   "execution_count": null,
   "metadata": {
    "id": "AXN7PHPN_Zcs"
   },
   "outputs": [],
   "source": [
    "# импорт библиотеки pandas\n",
    "import pandas as pd"
   ]
  },
  {
   "cell_type": "markdown",
   "metadata": {
    "id": "SG23P8tt_Zcs"
   },
   "source": [
    "Прочитайте файл `yandex_music_project.csv` из папки `/datasets` и сохраните его в переменной `df`:"
   ]
  },
  {
   "cell_type": "code",
   "execution_count": null,
   "metadata": {
    "id": "fFVu7vqh_Zct"
   },
   "outputs": [],
   "source": [
    "# чтение файла с данными и сохранение в df\n",
    "df = pd.read_csv('/datasets/yandex_music_project.csv')\n",
    "\n",
    "        "
   ]
  },
  {
   "cell_type": "markdown",
   "metadata": {
    "id": "rDoOMd3uTqnZ"
   },
   "source": [
    "Выведите на экран первые десять строк таблицы:"
   ]
  },
  {
   "cell_type": "code",
   "execution_count": null,
   "metadata": {
    "id": "oWTVX3gW_Zct"
   },
   "outputs": [
    {
     "data": {
      "text/html": [
       "<div>\n",
       "<style scoped>\n",
       "    .dataframe tbody tr th:only-of-type {\n",
       "        vertical-align: middle;\n",
       "    }\n",
       "\n",
       "    .dataframe tbody tr th {\n",
       "        vertical-align: top;\n",
       "    }\n",
       "\n",
       "    .dataframe thead th {\n",
       "        text-align: right;\n",
       "    }\n",
       "</style>\n",
       "<table border=\"1\" class=\"dataframe\">\n",
       "  <thead>\n",
       "    <tr style=\"text-align: right;\">\n",
       "      <th></th>\n",
       "      <th>userID</th>\n",
       "      <th>Track</th>\n",
       "      <th>artist</th>\n",
       "      <th>genre</th>\n",
       "      <th>City</th>\n",
       "      <th>time</th>\n",
       "      <th>Day</th>\n",
       "    </tr>\n",
       "  </thead>\n",
       "  <tbody>\n",
       "    <tr>\n",
       "      <td>0</td>\n",
       "      <td>FFB692EC</td>\n",
       "      <td>Kamigata To Boots</td>\n",
       "      <td>The Mass Missile</td>\n",
       "      <td>rock</td>\n",
       "      <td>Saint-Petersburg</td>\n",
       "      <td>20:28:33</td>\n",
       "      <td>Wednesday</td>\n",
       "    </tr>\n",
       "    <tr>\n",
       "      <td>1</td>\n",
       "      <td>55204538</td>\n",
       "      <td>Delayed Because of Accident</td>\n",
       "      <td>Andreas Rönnberg</td>\n",
       "      <td>rock</td>\n",
       "      <td>Moscow</td>\n",
       "      <td>14:07:09</td>\n",
       "      <td>Friday</td>\n",
       "    </tr>\n",
       "    <tr>\n",
       "      <td>2</td>\n",
       "      <td>20EC38</td>\n",
       "      <td>Funiculì funiculà</td>\n",
       "      <td>Mario Lanza</td>\n",
       "      <td>pop</td>\n",
       "      <td>Saint-Petersburg</td>\n",
       "      <td>20:58:07</td>\n",
       "      <td>Wednesday</td>\n",
       "    </tr>\n",
       "    <tr>\n",
       "      <td>3</td>\n",
       "      <td>A3DD03C9</td>\n",
       "      <td>Dragons in the Sunset</td>\n",
       "      <td>Fire + Ice</td>\n",
       "      <td>folk</td>\n",
       "      <td>Saint-Petersburg</td>\n",
       "      <td>08:37:09</td>\n",
       "      <td>Monday</td>\n",
       "    </tr>\n",
       "    <tr>\n",
       "      <td>4</td>\n",
       "      <td>E2DC1FAE</td>\n",
       "      <td>Soul People</td>\n",
       "      <td>Space Echo</td>\n",
       "      <td>dance</td>\n",
       "      <td>Moscow</td>\n",
       "      <td>08:34:34</td>\n",
       "      <td>Monday</td>\n",
       "    </tr>\n",
       "    <tr>\n",
       "      <td>5</td>\n",
       "      <td>842029A1</td>\n",
       "      <td>Преданная</td>\n",
       "      <td>IMPERVTOR</td>\n",
       "      <td>rusrap</td>\n",
       "      <td>Saint-Petersburg</td>\n",
       "      <td>13:09:41</td>\n",
       "      <td>Friday</td>\n",
       "    </tr>\n",
       "    <tr>\n",
       "      <td>6</td>\n",
       "      <td>4CB90AA5</td>\n",
       "      <td>True</td>\n",
       "      <td>Roman Messer</td>\n",
       "      <td>dance</td>\n",
       "      <td>Moscow</td>\n",
       "      <td>13:00:07</td>\n",
       "      <td>Wednesday</td>\n",
       "    </tr>\n",
       "    <tr>\n",
       "      <td>7</td>\n",
       "      <td>F03E1C1F</td>\n",
       "      <td>Feeling This Way</td>\n",
       "      <td>Polina Griffith</td>\n",
       "      <td>dance</td>\n",
       "      <td>Moscow</td>\n",
       "      <td>20:47:49</td>\n",
       "      <td>Wednesday</td>\n",
       "    </tr>\n",
       "    <tr>\n",
       "      <td>8</td>\n",
       "      <td>8FA1D3BE</td>\n",
       "      <td>И вновь продолжается бой</td>\n",
       "      <td>NaN</td>\n",
       "      <td>ruspop</td>\n",
       "      <td>Moscow</td>\n",
       "      <td>09:17:40</td>\n",
       "      <td>Friday</td>\n",
       "    </tr>\n",
       "    <tr>\n",
       "      <td>9</td>\n",
       "      <td>E772D5C0</td>\n",
       "      <td>Pessimist</td>\n",
       "      <td>NaN</td>\n",
       "      <td>dance</td>\n",
       "      <td>Saint-Petersburg</td>\n",
       "      <td>21:20:49</td>\n",
       "      <td>Wednesday</td>\n",
       "    </tr>\n",
       "  </tbody>\n",
       "</table>\n",
       "</div>"
      ],
      "text/plain": [
       "     userID                        Track            artist   genre  \\\n",
       "0  FFB692EC            Kamigata To Boots  The Mass Missile    rock   \n",
       "1  55204538  Delayed Because of Accident  Andreas Rönnberg    rock   \n",
       "2    20EC38            Funiculì funiculà       Mario Lanza     pop   \n",
       "3  A3DD03C9        Dragons in the Sunset        Fire + Ice    folk   \n",
       "4  E2DC1FAE                  Soul People        Space Echo   dance   \n",
       "5  842029A1                    Преданная         IMPERVTOR  rusrap   \n",
       "6  4CB90AA5                         True      Roman Messer   dance   \n",
       "7  F03E1C1F             Feeling This Way   Polina Griffith   dance   \n",
       "8  8FA1D3BE     И вновь продолжается бой               NaN  ruspop   \n",
       "9  E772D5C0                    Pessimist               NaN   dance   \n",
       "\n",
       "             City        time        Day  \n",
       "0  Saint-Petersburg  20:28:33  Wednesday  \n",
       "1            Moscow  14:07:09     Friday  \n",
       "2  Saint-Petersburg  20:58:07  Wednesday  \n",
       "3  Saint-Petersburg  08:37:09     Monday  \n",
       "4            Moscow  08:34:34     Monday  \n",
       "5  Saint-Petersburg  13:09:41     Friday  \n",
       "6            Moscow  13:00:07  Wednesday  \n",
       "7            Moscow  20:47:49  Wednesday  \n",
       "8            Moscow  09:17:40     Friday  \n",
       "9  Saint-Petersburg  21:20:49  Wednesday  "
      ]
     },
     "metadata": {},
     "output_type": "display_data"
    }
   ],
   "source": [
    "# получение первых 10 строк таблицы df\n",
    "display(df.head(10))"
   ]
  },
  {
   "cell_type": "markdown",
   "metadata": {
    "id": "EO73Kwic_Zct"
   },
   "source": [
    "Одной командой получить общую информацию о таблице:"
   ]
  },
  {
   "cell_type": "code",
   "execution_count": null,
   "metadata": {
    "id": "DSf2kIb-_Zct"
   },
   "outputs": [
    {
     "name": "stdout",
     "output_type": "stream",
     "text": [
      "<class 'pandas.core.frame.DataFrame'>\n",
      "RangeIndex: 65079 entries, 0 to 65078\n",
      "Data columns (total 7 columns):\n",
      "  userID    65079 non-null object\n",
      "Track       63848 non-null object\n",
      "artist      57876 non-null object\n",
      "genre       63881 non-null object\n",
      "  City      65079 non-null object\n",
      "time        65079 non-null object\n",
      "Day         65079 non-null object\n",
      "dtypes: object(7)\n",
      "memory usage: 3.5+ MB\n"
     ]
    }
   ],
   "source": [
    "# получение общей информации о данных в таблице df\n",
    "df.info()"
   ]
  },
  {
   "cell_type": "markdown",
   "metadata": {
    "id": "TaQ2Iwbr_Zct"
   },
   "source": [
    "Итак, в таблице семь столбцов. Тип данных во всех столбцах — `object`.\n",
    "\n",
    "Согласно документации к данным:\n",
    "* `userID` — идентификатор пользователя;\n",
    "* `Track` — название трека;  \n",
    "* `artist` — имя исполнителя;\n",
    "* `genre` — название жанра;\n",
    "* `City` — город пользователя;\n",
    "* `time` — время начала прослушивания;\n",
    "* `Day` — день недели.\n",
    "\n",
    "В названиях колонок видны три нарушения стиля:\n",
    "1. Строчные буквы сочетаются с прописными.\n",
    "2. Встречаются пробелы.\n",
    "3. Найдите ещё одну проблему в названии колонок и опишите её в этом пункте.\n",
    "\n",
    "\n",
    "\n",
    "Количество значений в столбцах различается. Значит, в данных есть пропущенные значения.\n"
   ]
  },
  {
   "cell_type": "markdown",
   "metadata": {
    "id": "MCB6-dXG_Zct"
   },
   "source": [
    "**Выводы**\n",
    "\n",
    "В каждой строке таблицы — данные о прослушанном треке. Часть колонок описывает саму композицию: название, исполнителя и жанр. Остальные данные рассказывают о пользователе: из какого он города, когда он слушал музыку. \n",
    "\n",
    "Предварительно можно утверждать, что, данных достаточно для проверки гипотез. Но встречаются пропуски в данных, а в названиях колонок — расхождения с хорошим стилем.\n",
    "\n",
    "Чтобы двигаться дальше, нужно устранить проблемы в данных."
   ]
  },
  {
   "cell_type": "markdown",
   "metadata": {
    "id": "SjYF6Ub9_Zct"
   },
   "source": [
    "## Предобработка данных\n",
    "Исправьте стиль в заголовках столбцов, исключите пропуски. Затем проверьте данные на дубликаты."
   ]
  },
  {
   "cell_type": "markdown",
   "metadata": {
    "id": "dIaKXr29_Zct"
   },
   "source": [
    "### Стиль заголовков\n",
    "Выведите на экран названия столбцов:"
   ]
  },
  {
   "cell_type": "code",
   "execution_count": null,
   "metadata": {
    "id": "oKOTdF_Q_Zct"
   },
   "outputs": [
    {
     "name": "stdout",
     "output_type": "stream",
     "text": [
      "Index(['  userID', 'Track', 'artist', 'genre', '  City  ', 'time', 'Day'], dtype='object')\n"
     ]
    }
   ],
   "source": [
    "# перечень названий столбцов таблицы df\n",
    "print(df.columns)"
   ]
  },
  {
   "cell_type": "markdown",
   "metadata": {
    "id": "zj5534cv_Zct"
   },
   "source": [
    "Приведите названия в соответствие с хорошим стилем:\n",
    "* несколько слов в названии запишите в «змеином_регистре»,\n",
    "* все символы сделайте строчными,\n",
    "* устраните пробелы.\n",
    "\n",
    "Для этого переименуйте колонки так:\n",
    "* `'  userID'` → `'user_id'`;\n",
    "* `'Track'` → `'track'`;\n",
    "* `'  City  '` → `'city'`;\n",
    "* `'Day'` → `'day'`."
   ]
  },
  {
   "cell_type": "code",
   "execution_count": null,
   "metadata": {
    "id": "ISlFqs5y_Zct"
   },
   "outputs": [],
   "source": [
    "# переименование столбцов с помощью метода датафреймов rename(columns), где columns - словарь, в котором ключ -старое название, значение- новое название\n",
    "df = df.rename(columns ={'  userID': 'user_id', 'Track': 'track', '  City  ': 'city', 'Day': 'day'})"
   ]
  },
  {
   "cell_type": "markdown",
   "metadata": {
    "id": "1dqbh00J_Zct"
   },
   "source": [
    "Проверьте результат. Для этого ещё раз выведите на экран названия столбцов:"
   ]
  },
  {
   "cell_type": "raw",
   "metadata": {
    "id": "d4NOAmTW_Zct"
   },
   "source": [
    "# проверка результатов - перечень названий столбцов\n",
    "print(df.columns)"
   ]
  },
  {
   "cell_type": "markdown",
   "metadata": {
    "id": "5ISfbcfY_Zct"
   },
   "source": [
    "### Пропуски значений\n",
    "Сначала посчитайте, сколько в таблице пропущенных значений. Для этого достаточно двух методов `pandas`:"
   ]
  },
  {
   "cell_type": "code",
   "execution_count": null,
   "metadata": {
    "id": "RskX29qr_Zct"
   },
   "outputs": [
    {
     "name": "stdout",
     "output_type": "stream",
     "text": [
      "user_id       0\n",
      "track      1231\n",
      "artist     7203\n",
      "genre      1198\n",
      "city          0\n",
      "time          0\n",
      "day           0\n",
      "dtype: int64\n"
     ]
    }
   ],
   "source": [
    "# подсчёт пропусков\n",
    "print(df.isna().sum())"
   ]
  },
  {
   "cell_type": "markdown",
   "metadata": {
    "id": "qubhgnlO_Zct"
   },
   "source": [
    "Не все пропущенные значения влияют на исследование. Так в `track` и `artist` пропуски не важны для вашей работы. Достаточно заменить их явными обозначениями.\n",
    "\n",
    "Но пропуски в `genre` могут помешать сравнению музыкальных вкусов в Москве и Санкт-Петербурге. На практике было бы правильно установить причину пропусков и восстановить данные. Такой возможности нет в учебном проекте. Придётся:\n",
    "* заполнить и эти пропуски явными обозначениями,\n",
    "* оценить, насколько они повредят расчётам. "
   ]
  },
  {
   "cell_type": "markdown",
   "metadata": {
    "id": "fSv2laPA_Zct"
   },
   "source": [
    "Замените пропущенные значения в столбцах `track`, `artist` и `genre` на строку `'unknown'`. Для этого создайте список `columns_to_replace`, переберите его элементы циклом `for` и для каждого столбца выполните замену пропущенных значений:"
   ]
  },
  {
   "cell_type": "code",
   "execution_count": null,
   "metadata": {
    "id": "KplB5qWs_Zct"
   },
   "outputs": [],
   "source": [
    "# перебор названий столбцов в цикле и замена пропущенных значений на 'unknown'\n",
    "columns_to_replace = ['track', 'artist', 'genre']\n",
    "for col in columns_to_replace:\n",
    "    df[col] = df[col].fillna('unknown')"
   ]
  },
  {
   "cell_type": "markdown",
   "metadata": {
    "id": "Ilsm-MZo_Zct"
   },
   "source": [
    "Убедитесь, что в таблице не осталось пропусков. Для этого ещё раз посчитайте пропущенные значения."
   ]
  },
  {
   "cell_type": "code",
   "execution_count": null,
   "metadata": {
    "id": "Tq4nYRX4_Zct"
   },
   "outputs": [
    {
     "name": "stdout",
     "output_type": "stream",
     "text": [
      "user_id    0\n",
      "track      0\n",
      "artist     0\n",
      "genre      0\n",
      "city       0\n",
      "time       0\n",
      "day        0\n",
      "dtype: int64\n"
     ]
    }
   ],
   "source": [
    "# подсчёт пропусков\n",
    "print(df.isna().sum())"
   ]
  },
  {
   "cell_type": "markdown",
   "metadata": {
    "id": "BWKRtBJ3_Zct"
   },
   "source": [
    "### Дубликаты\n",
    "Посчитайте явные дубликаты в таблице одной командой:"
   ]
  },
  {
   "cell_type": "code",
   "execution_count": null,
   "metadata": {
    "id": "36eES_S0_Zct"
   },
   "outputs": [
    {
     "name": "stdout",
     "output_type": "stream",
     "text": [
      "3826\n"
     ]
    }
   ],
   "source": [
    "# подсчёт явных дубликатов\n",
    "print(df.duplicated().sum()) "
   ]
  },
  {
   "cell_type": "markdown",
   "metadata": {
    "id": "Ot25h6XR_Zct"
   },
   "source": [
    "Вызовите специальный метод `pandas`, чтобы удалить явные дубликаты:"
   ]
  },
  {
   "cell_type": "code",
   "execution_count": null,
   "metadata": {
    "id": "exFHq6tt_Zct"
   },
   "outputs": [],
   "source": [
    "# удаление явных дубликатов (с удалением старых индексов и формированием новых)\n",
    "df = df.drop_duplicates().reset_index(drop=True)"
   ]
  },
  {
   "cell_type": "markdown",
   "metadata": {
    "id": "Im2YwBEG_Zct"
   },
   "source": [
    "Ещё раз посчитайте явные дубликаты в таблице — убедитесь, что полностью от них избавились:"
   ]
  },
  {
   "cell_type": "code",
   "execution_count": null,
   "metadata": {
    "id": "-8PuNWQ0_Zct"
   },
   "outputs": [
    {
     "name": "stdout",
     "output_type": "stream",
     "text": [
      "0\n"
     ]
    }
   ],
   "source": [
    "# проверка на отсутствие дубликатов\n",
    "print(df.duplicated().sum()) "
   ]
  },
  {
   "cell_type": "markdown",
   "metadata": {
    "id": "QlFBsxAr_Zct"
   },
   "source": [
    "Теперь избавьтесь от неявных дубликатов в колонке `genre`. Например, название одного и того же жанра может быть записано немного по-разному. Такие ошибки тоже повлияют на результат исследования."
   ]
  },
  {
   "cell_type": "markdown",
   "metadata": {
    "id": "eSjWwsOh_Zct"
   },
   "source": [
    "Выведите на экран список уникальных названий жанров, отсортированный в алфавитном порядке. Для этого:\n",
    "* извлеките нужный столбец датафрейма, \n",
    "* примените к нему метод сортировки,\n",
    "* для отсортированного столбца вызовите метод, который вернёт уникальные значения из столбца."
   ]
  },
  {
   "cell_type": "code",
   "execution_count": null,
   "metadata": {
    "id": "JIUcqzZN_Zct"
   },
   "outputs": [
    {
     "name": "stdout",
     "output_type": "stream",
     "text": [
      "['acid', 'acoustic', 'action', 'adult', 'africa', 'afrikaans', 'alternative', 'alternativepunk', 'ambient', 'americana', 'animated', 'anime', 'arabesk', 'arabic', 'arena', 'argentinetango', 'art', 'audiobook', 'author', 'avantgarde', 'axé', 'baile', 'balkan', 'beats', 'bigroom', 'black', 'bluegrass', 'blues', 'bollywood', 'bossa', 'brazilian', 'breakbeat', 'breaks', 'broadway', 'cantautori', 'cantopop', 'canzone', 'caribbean', 'caucasian', 'celtic', 'chamber', 'chanson', 'children', 'chill', 'chinese', 'choral', 'christian', 'christmas', 'classical', 'classicmetal', 'club', 'colombian', 'comedy', 'conjazz', 'contemporary', 'country', 'cuban', 'dance', 'dancehall', 'dancepop', 'dark', 'death', 'deep', 'deutschrock', 'deutschspr', 'dirty', 'disco', 'dnb', 'documentary', 'downbeat', 'downtempo', 'drum', 'dub', 'dubstep', 'eastern', 'easy', 'electronic', 'electropop', 'emo', 'entehno', 'epicmetal', 'estrada', 'ethnic', 'eurofolk', 'european', 'experimental', 'extrememetal', 'fado', 'fairytail', 'film', 'fitness', 'flamenco', 'folk', 'folklore', 'folkmetal', 'folkrock', 'folktronica', 'forró', 'frankreich', 'französisch', 'french', 'funk', 'future', 'gangsta', 'garage', 'german', 'ghazal', 'gitarre', 'glitch', 'gospel', 'gothic', 'grime', 'grunge', 'gypsy', 'handsup', \"hard'n'heavy\", 'hardcore', 'hardstyle', 'hardtechno', 'hip', 'hip-hop', 'hiphop', 'historisch', 'holiday', 'hop', 'horror', 'house', 'hymn', 'idm', 'independent', 'indian', 'indie', 'indipop', 'industrial', 'inspirational', 'instrumental', 'international', 'irish', 'jam', 'japanese', 'jazz', 'jewish', 'jpop', 'jungle', 'k-pop', 'karadeniz', 'karaoke', 'kayokyoku', 'korean', 'laiko', 'latin', 'latino', 'leftfield', 'local', 'lounge', 'loungeelectronic', 'lovers', 'malaysian', 'mandopop', 'marschmusik', 'meditative', 'mediterranean', 'melodic', 'metal', 'metalcore', 'mexican', 'middle', 'minimal', 'miscellaneous', 'modern', 'mood', 'mpb', 'muslim', 'native', 'neoklassik', 'neue', 'new', 'newage', 'newwave', 'nu', 'nujazz', 'numetal', 'oceania', 'old', 'opera', 'orchestral', 'other', 'piano', 'podcasts', 'pop', 'popdance', 'popelectronic', 'popeurodance', 'poprussian', 'post', 'posthardcore', 'postrock', 'power', 'progmetal', 'progressive', 'psychedelic', 'punjabi', 'punk', 'quebecois', 'ragga', 'ram', 'rancheras', 'rap', 'rave', 'reggae', 'reggaeton', 'regional', 'relax', 'religious', 'retro', 'rhythm', 'rnb', 'rnr', 'rock', 'rockabilly', 'rockalternative', 'rockindie', 'rockother', 'romance', 'roots', 'ruspop', 'rusrap', 'rusrock', 'russian', 'salsa', 'samba', 'scenic', 'schlager', 'self', 'sertanejo', 'shanson', 'shoegazing', 'showtunes', 'singer', 'ska', 'skarock', 'slow', 'smooth', 'soft', 'soul', 'soulful', 'sound', 'soundtrack', 'southern', 'specialty', 'speech', 'spiritual', 'sport', 'stonerrock', 'surf', 'swing', 'synthpop', 'synthrock', 'sängerportrait', 'tango', 'tanzorchester', 'taraftar', 'tatar', 'tech', 'techno', 'teen', 'thrash', 'top', 'traditional', 'tradjazz', 'trance', 'tribal', 'trip', 'triphop', 'tropical', 'türk', 'türkçe', 'ukrrock', 'unknown', 'urban', 'uzbek', 'variété', 'vi', 'videogame', 'vocal', 'western', 'world', 'worldbeat', 'ïîï', 'электроника']\n"
     ]
    }
   ],
   "source": [
    "# Просмотр уникальных названий жанров\n",
    "print(sorted(df['genre'].unique()))"
   ]
  },
  {
   "cell_type": "markdown",
   "metadata": {
    "id": "qej-Qmuo_Zct"
   },
   "source": [
    "Просмотрите список и найдите неявные дубликаты названия `hiphop`. Это могут быть названия с ошибками или альтернативные названия того же жанра.\n",
    "\n",
    "Вы увидите следующие неявные дубликаты:\n",
    "* *hip*,\n",
    "* *hop*,\n",
    "* *hip-hop*.\n",
    "\n",
    "Чтобы очистить от них таблицу, напишите функцию `replace_wrong_genres()` с двумя параметрами: \n",
    "* `wrong_genres` — список дубликатов,\n",
    "* `correct_genre` — строка с правильным значением.\n",
    "\n",
    "Функция должна исправить колонку `genre` в таблице `df`: заменить каждое значение из списка `wrong_genres` на значение из `correct_genre`."
   ]
  },
  {
   "cell_type": "code",
   "execution_count": null,
   "metadata": {
    "id": "ErNDkmns_Zct"
   },
   "outputs": [],
   "source": [
    "# Функция для замены неявных дубликатов\n",
    "def replace_wrong_genres(wrong_genres, correct_genre):\n",
    "    for wrong_genre in wrong_genres: # перебор неправильных жанров\n",
    "        df['genre'] = df['genre'].replace(wrong_genres, correct_genre) # вызов метода replace() для каждого wrong_genre"
   ]
  },
  {
   "cell_type": "markdown",
   "metadata": {
    "id": "aDoBJxbA_Zct"
   },
   "source": [
    "Вызовите `replace_wrong_genres()` и передайте ей такие аргументы, чтобы она устранила неявные дубликаты: вместо `hip`, `hop` и `hip-hop` в таблице должно быть значение `hiphop`:"
   ]
  },
  {
   "cell_type": "code",
   "execution_count": null,
   "metadata": {
    "id": "YN5i2hpmSo09"
   },
   "outputs": [],
   "source": [
    "# Устранение неявных дубликатов\n",
    "# объявление списка неправильных жанров\n",
    "old_genres = ['hip', 'hop', 'hip-hop']\n",
    "# объявление правильного значения\n",
    "new_genre = 'hiphop'\n",
    "replace_wrong_genres(old_genres, new_genre)"
   ]
  },
  {
   "cell_type": "markdown",
   "metadata": {
    "id": "zQKF16_RG15m"
   },
   "source": [
    "Проверьте, что заменили неправильные названия:\n",
    "\n",
    "*   hip\n",
    "*   hop\n",
    "*   hip-hop\n",
    "\n",
    "Выведите отсортированный список уникальных значений столбца `genre`:"
   ]
  },
  {
   "cell_type": "code",
   "execution_count": null,
   "metadata": {
    "id": "wvixALnFG15m"
   },
   "outputs": [
    {
     "name": "stdout",
     "output_type": "stream",
     "text": [
      "['acid', 'acoustic', 'action', 'adult', 'africa', 'afrikaans', 'alternative', 'alternativepunk', 'ambient', 'americana', 'animated', 'anime', 'arabesk', 'arabic', 'arena', 'argentinetango', 'art', 'audiobook', 'author', 'avantgarde', 'axé', 'baile', 'balkan', 'beats', 'bigroom', 'black', 'bluegrass', 'blues', 'bollywood', 'bossa', 'brazilian', 'breakbeat', 'breaks', 'broadway', 'cantautori', 'cantopop', 'canzone', 'caribbean', 'caucasian', 'celtic', 'chamber', 'chanson', 'children', 'chill', 'chinese', 'choral', 'christian', 'christmas', 'classical', 'classicmetal', 'club', 'colombian', 'comedy', 'conjazz', 'contemporary', 'country', 'cuban', 'dance', 'dancehall', 'dancepop', 'dark', 'death', 'deep', 'deutschrock', 'deutschspr', 'dirty', 'disco', 'dnb', 'documentary', 'downbeat', 'downtempo', 'drum', 'dub', 'dubstep', 'eastern', 'easy', 'electronic', 'electropop', 'emo', 'entehno', 'epicmetal', 'estrada', 'ethnic', 'eurofolk', 'european', 'experimental', 'extrememetal', 'fado', 'fairytail', 'film', 'fitness', 'flamenco', 'folk', 'folklore', 'folkmetal', 'folkrock', 'folktronica', 'forró', 'frankreich', 'französisch', 'french', 'funk', 'future', 'gangsta', 'garage', 'german', 'ghazal', 'gitarre', 'glitch', 'gospel', 'gothic', 'grime', 'grunge', 'gypsy', 'handsup', \"hard'n'heavy\", 'hardcore', 'hardstyle', 'hardtechno', 'hiphop', 'historisch', 'holiday', 'horror', 'house', 'hymn', 'idm', 'independent', 'indian', 'indie', 'indipop', 'industrial', 'inspirational', 'instrumental', 'international', 'irish', 'jam', 'japanese', 'jazz', 'jewish', 'jpop', 'jungle', 'k-pop', 'karadeniz', 'karaoke', 'kayokyoku', 'korean', 'laiko', 'latin', 'latino', 'leftfield', 'local', 'lounge', 'loungeelectronic', 'lovers', 'malaysian', 'mandopop', 'marschmusik', 'meditative', 'mediterranean', 'melodic', 'metal', 'metalcore', 'mexican', 'middle', 'minimal', 'miscellaneous', 'modern', 'mood', 'mpb', 'muslim', 'native', 'neoklassik', 'neue', 'new', 'newage', 'newwave', 'nu', 'nujazz', 'numetal', 'oceania', 'old', 'opera', 'orchestral', 'other', 'piano', 'podcasts', 'pop', 'popdance', 'popelectronic', 'popeurodance', 'poprussian', 'post', 'posthardcore', 'postrock', 'power', 'progmetal', 'progressive', 'psychedelic', 'punjabi', 'punk', 'quebecois', 'ragga', 'ram', 'rancheras', 'rap', 'rave', 'reggae', 'reggaeton', 'regional', 'relax', 'religious', 'retro', 'rhythm', 'rnb', 'rnr', 'rock', 'rockabilly', 'rockalternative', 'rockindie', 'rockother', 'romance', 'roots', 'ruspop', 'rusrap', 'rusrock', 'russian', 'salsa', 'samba', 'scenic', 'schlager', 'self', 'sertanejo', 'shanson', 'shoegazing', 'showtunes', 'singer', 'ska', 'skarock', 'slow', 'smooth', 'soft', 'soul', 'soulful', 'sound', 'soundtrack', 'southern', 'specialty', 'speech', 'spiritual', 'sport', 'stonerrock', 'surf', 'swing', 'synthpop', 'synthrock', 'sängerportrait', 'tango', 'tanzorchester', 'taraftar', 'tatar', 'tech', 'techno', 'teen', 'thrash', 'top', 'traditional', 'tradjazz', 'trance', 'tribal', 'trip', 'triphop', 'tropical', 'türk', 'türkçe', 'ukrrock', 'unknown', 'urban', 'uzbek', 'variété', 'vi', 'videogame', 'vocal', 'western', 'world', 'worldbeat', 'ïîï', 'электроника']\n"
     ]
    }
   ],
   "source": [
    "# Проверка на неявные дубликаты\n",
    "print(sorted(df['genre'].unique()))"
   ]
  },
  {
   "cell_type": "markdown",
   "metadata": {
    "id": "jz6a9-7HQUDd"
   },
   "source": [
    "**Выводы**\n",
    "\n",
    "Предобработка обнаружила три проблемы в данных:\n",
    "\n",
    "- нарушения в стиле заголовков,\n",
    "- пропущенные значения,\n",
    "- дубликаты — явные и неявные.\n",
    "\n",
    "Вы исправили заголовки, чтобы упростить работу с таблицей. Без дубликатов исследование станет более точным.\n",
    "\n",
    "Пропущенные значения вы заменили на `'unknown'`. Ещё предстоит увидеть, не повредят ли исследованию пропуски в колонке `genre`.\n",
    "\n",
    "Теперь можно перейти к проверке гипотез. "
   ]
  },
  {
   "cell_type": "markdown",
   "metadata": {
    "id": "WttZHXH0SqKk"
   },
   "source": [
    "## Проверка гипотез"
   ]
  },
  {
   "cell_type": "markdown",
   "metadata": {
    "id": "Im936VVi_Zcu"
   },
   "source": [
    "### Сравнение поведения пользователей двух столиц"
   ]
  },
  {
   "cell_type": "markdown",
   "metadata": {
    "id": "nwt_MuaL_Zcu"
   },
   "source": [
    "Первая гипотеза утверждает, что пользователи по-разному слушают музыку в Москве и Санкт-Петербурге. Проверьте это предположение по данным о трёх днях недели — понедельнике, среде и пятнице. Для этого:\n",
    "\n",
    "* Разделите пользователей Москвы и Санкт-Петербурга\n",
    "* Сравните, сколько треков послушала каждая группа пользователей в понедельник, среду и пятницу.\n"
   ]
  },
  {
   "cell_type": "markdown",
   "metadata": {
    "id": "8Dw_YMmT_Zcu"
   },
   "source": [
    "Для тренировки сначала выполните каждый из расчётов по отдельности. \n",
    "\n",
    "Оцените активность пользователей в каждом городе. Сгруппируйте данные по городу и посчитайте прослушивания в каждой группе.\n",
    "\n"
   ]
  },
  {
   "cell_type": "code",
   "execution_count": null,
   "metadata": {
    "id": "0_Qs96oh_Zcu"
   },
   "outputs": [
    {
     "name": "stdout",
     "output_type": "stream",
     "text": [
      "city\n",
      "Moscow              42741\n",
      "Saint-Petersburg    18512\n",
      "Name: genre, dtype: int64\n"
     ]
    }
   ],
   "source": [
    "# Подсчёт прослушиваний в каждом городе\n",
    "print(df.groupby('city')['genre'].count())"
   ]
  },
  {
   "cell_type": "markdown",
   "metadata": {
    "id": "dzli3w8o_Zcu"
   },
   "source": [
    "В Москве прослушиваний больше, чем в Петербурге. Из этого не следует, что московские пользователи чаще слушают музыку. Просто самих пользователей в Москве больше.\n",
    "\n",
    "Теперь сгруппируйте данные по дню недели и подсчитайте прослушивания в понедельник, среду и пятницу. Учтите, что в данных есть информация только о прослушиваниях только за эти дни.\n"
   ]
  },
  {
   "cell_type": "code",
   "execution_count": null,
   "metadata": {
    "id": "uZMKjiJz_Zcu"
   },
   "outputs": [
    {
     "name": "stdout",
     "output_type": "stream",
     "text": [
      "day\n",
      "Friday       21840\n",
      "Monday       21354\n",
      "Wednesday    18059\n",
      "Name: genre, dtype: int64\n"
     ]
    }
   ],
   "source": [
    "# Подсчёт прослушиваний в каждый из трёх дней\n",
    "print(df.groupby('day')['genre'].count())"
   ]
  },
  {
   "cell_type": "markdown",
   "metadata": {
    "id": "cC2tNrlL_Zcu"
   },
   "source": [
    "В среднем пользователи из двух городов менее активны по средам. Но картина может измениться, если рассмотреть каждый город в отдельности."
   ]
  },
  {
   "cell_type": "markdown",
   "metadata": {
    "id": "POzs8bGa_Zcu"
   },
   "source": [
    "Вы видели, как работает группировка по городу и по дням недели. Теперь напишите функцию, которая объединит два эти расчёта.\n",
    "\n",
    "Создайте функцию `number_tracks()`, которая посчитает прослушивания для заданного дня и города. Ей понадобятся два параметра:\n",
    "* день недели,\n",
    "* название города.\n",
    "\n",
    "В функции сохраните в переменную строки исходной таблицы, у которых значение:\n",
    "  * в колонке `day` равно параметру `day`,\n",
    "  * в колонке `city` равно параметру `city`.\n",
    "\n",
    "Для этого примените последовательную фильтрацию с логической индексацией.\n",
    "\n",
    "Затем посчитайте значения в столбце `user_id` получившейся таблицы. Результат сохраните в новую переменную. Верните эту переменную из функции."
   ]
  },
  {
   "cell_type": "markdown",
   "metadata": {},
   "source": [
    "Создание функции number_tracks():"
   ]
  },
  {
   "cell_type": "code",
   "execution_count": null,
   "metadata": {
    "id": "Nz3GdQB1_Zcu"
   },
   "outputs": [],
   "source": [
    "# Объявляется функция с двумя параметрами: day, city.\n",
    "def number_tracks(day, city):\n",
    "# В переменной track_list сохраняются те строки таблицы df, для которых \n",
    "# значение в столбце 'day' равно параметру day и одновременно значение\n",
    "# в столбце 'city' равно параметру city (используйте последовательную фильтрацию\n",
    "# с помощью логической индексации).\n",
    "    track_list = df[(df['day'] == day) & (df['city'] == city)]\n",
    "    # В переменной track_list_count сохраняется число значений столбца 'user_id',\n",
    "    # рассчитанное методом count() для таблицы track_list.\n",
    "    track_list_count = track_list['user_id'].count()\n",
    "    # Функция возвращает число - значение track_list_count.\n",
    "    return track_list_count"
   ]
  },
  {
   "cell_type": "markdown",
   "metadata": {
    "id": "ytf7xFrFJQ2r"
   },
   "source": [
    "Вызовите `number_tracks()` шесть раз, меняя значение параметров — так, чтобы получить данные для каждого города в каждый из трёх дней."
   ]
  },
  {
   "cell_type": "code",
   "execution_count": null,
   "metadata": {
    "id": "rJcRATNQ_Zcu"
   },
   "outputs": [
    {
     "data": {
      "text/plain": [
       "15740"
      ]
     },
     "execution_count": 21,
     "metadata": {},
     "output_type": "execute_result"
    }
   ],
   "source": [
    "# количество прослушиваний в Москве по понедельникам\n",
    "number_tracks('Monday', 'Moscow')"
   ]
  },
  {
   "cell_type": "code",
   "execution_count": null,
   "metadata": {
    "id": "hq_ncZ5T_Zcu"
   },
   "outputs": [
    {
     "data": {
      "text/plain": [
       "5614"
      ]
     },
     "execution_count": 22,
     "metadata": {},
     "output_type": "execute_result"
    }
   ],
   "source": [
    "# количество прослушиваний в Санкт-Петербурге по понедельникам\n",
    "number_tracks('Monday', 'Saint-Petersburg')"
   ]
  },
  {
   "cell_type": "code",
   "execution_count": null,
   "metadata": {
    "id": "_NTy2VPU_Zcu"
   },
   "outputs": [
    {
     "data": {
      "text/plain": [
       "11056"
      ]
     },
     "execution_count": 23,
     "metadata": {},
     "output_type": "execute_result"
    }
   ],
   "source": [
    "# количество прослушиваний в Москве по средам\n",
    "number_tracks('Wednesday', 'Moscow')"
   ]
  },
  {
   "cell_type": "code",
   "execution_count": null,
   "metadata": {
    "id": "j2y3TAwo_Zcu"
   },
   "outputs": [
    {
     "data": {
      "text/plain": [
       "7003"
      ]
     },
     "execution_count": 24,
     "metadata": {},
     "output_type": "execute_result"
    }
   ],
   "source": [
    "# количество прослушиваний в Санкт-Петербурге по средам\n",
    "number_tracks('Wednesday', 'Saint-Petersburg')"
   ]
  },
  {
   "cell_type": "code",
   "execution_count": null,
   "metadata": {
    "id": "vYDw5u_K_Zcu"
   },
   "outputs": [
    {
     "data": {
      "text/plain": [
       "15945"
      ]
     },
     "execution_count": 25,
     "metadata": {},
     "output_type": "execute_result"
    }
   ],
   "source": [
    "# количество прослушиваний в Москве по пятницам\n",
    "number_tracks('Friday', 'Moscow')"
   ]
  },
  {
   "cell_type": "code",
   "execution_count": null,
   "metadata": {
    "id": "8_yzFtW3_Zcu"
   },
   "outputs": [
    {
     "data": {
      "text/plain": [
       "5895"
      ]
     },
     "execution_count": 26,
     "metadata": {},
     "output_type": "execute_result"
    }
   ],
   "source": [
    "# количество прослушиваний в Санкт-Петербурге по пятницам\n",
    "number_tracks('Friday','Saint-Petersburg')"
   ]
  },
  {
   "cell_type": "code",
   "execution_count": null,
   "metadata": {},
   "outputs": [
    {
     "name": "stdout",
     "output_type": "stream",
     "text": [
      "Количество прослушиваний в Moscow по Monday равно 15740\n",
      "Количество прослушиваний в Moscow по Wednesday равно 11056\n",
      "Количество прослушиваний в Moscow по Friday равно 15945\n",
      "Количество прослушиваний в Saint-Petersburg по Monday равно 5614\n",
      "Количество прослушиваний в Saint-Petersburg по Wednesday равно 7003\n",
      "Количество прослушиваний в Saint-Petersburg по Friday равно 5895\n"
     ]
    }
   ],
   "source": [
    "for weekday, city in zip(['Monday', 'Wednesday', 'Friday']*2, sorted(['Moscow', 'Saint-Petersburg']*3)):\n",
    "    print(f'Количество прослушиваний в {city} по {weekday} равно {number_tracks(weekday, city)}')"
   ]
  },
  {
   "cell_type": "markdown",
   "metadata": {
    "id": "7QXffbO-_Zcu"
   },
   "source": [
    "Создайте c помощью конструктора `pd.DataFrame` таблицу, где\n",
    "* названия колонок — `['city', 'monday', 'wednesday', 'friday']`;\n",
    "* данные — результаты, которые вы получили с помощью `number_tracks`."
   ]
  },
  {
   "cell_type": "code",
   "execution_count": null,
   "metadata": {
    "id": "APAcLpOr_Zcu"
   },
   "outputs": [
    {
     "data": {
      "text/html": [
       "<div>\n",
       "<style scoped>\n",
       "    .dataframe tbody tr th:only-of-type {\n",
       "        vertical-align: middle;\n",
       "    }\n",
       "\n",
       "    .dataframe tbody tr th {\n",
       "        vertical-align: top;\n",
       "    }\n",
       "\n",
       "    .dataframe thead th {\n",
       "        text-align: right;\n",
       "    }\n",
       "</style>\n",
       "<table border=\"1\" class=\"dataframe\">\n",
       "  <thead>\n",
       "    <tr style=\"text-align: right;\">\n",
       "      <th></th>\n",
       "      <th>city</th>\n",
       "      <th>monday</th>\n",
       "      <th>wednesday</th>\n",
       "      <th>friday</th>\n",
       "    </tr>\n",
       "  </thead>\n",
       "  <tbody>\n",
       "    <tr>\n",
       "      <td>0</td>\n",
       "      <td>Moscow</td>\n",
       "      <td>15740</td>\n",
       "      <td>11056</td>\n",
       "      <td>15945</td>\n",
       "    </tr>\n",
       "    <tr>\n",
       "      <td>1</td>\n",
       "      <td>Saint-Petersburg</td>\n",
       "      <td>5614</td>\n",
       "      <td>7003</td>\n",
       "      <td>5895</td>\n",
       "    </tr>\n",
       "  </tbody>\n",
       "</table>\n",
       "</div>"
      ],
      "text/plain": [
       "               city  monday  wednesday  friday\n",
       "0            Moscow   15740      11056   15945\n",
       "1  Saint-Petersburg    5614       7003    5895"
      ]
     },
     "metadata": {},
     "output_type": "display_data"
    }
   ],
   "source": [
    "# Таблица с результатами\n",
    "results = [['Moscow', 15740, 11056, 15945], \n",
    "           ['Saint-Petersburg', 5614, 7003, 5895 ]\n",
    "          ]\n",
    "columns = ['city', 'monday', 'wednesday', 'friday']\n",
    "\n",
    "days_and_cities = pd.DataFrame(data=results,columns=columns)\n",
    "display(days_and_cities)\n"
   ]
  },
  {
   "cell_type": "markdown",
   "metadata": {
    "id": "-EgPIHYu_Zcu"
   },
   "source": [
    "**Выводы**\n",
    "\n",
    "Данные показывают разницу поведения пользователей:\n",
    "\n",
    "- В Москве пик прослушиваний приходится на понедельник и пятницу, а в среду заметен спад.\n",
    "- В Петербурге, наоборот, больше слушают музыку по средам. Активность в понедельник и пятницу здесь почти в равной мере уступает среде.\n",
    "\n",
    "Значит, данные говорят в пользу первой гипотезы."
   ]
  },
  {
   "cell_type": "markdown",
   "metadata": {
    "id": "atZAxtq4_Zcu"
   },
   "source": [
    "### Музыка в начале и в конце недели"
   ]
  },
  {
   "cell_type": "markdown",
   "metadata": {
    "id": "eXrQqXFH_Zcu"
   },
   "source": [
    "Согласно второй гипотезе, утром в понедельник в Москве преобладают одни жанры, а в Петербурге — другие. Так же и вечером пятницы преобладают разные жанры — в зависимости от города."
   ]
  },
  {
   "cell_type": "markdown",
   "metadata": {
    "id": "S8UcW6Hw_Zcu"
   },
   "source": [
    "Сохраните таблицы с данными в две переменные:\n",
    "* по Москве — в `moscow_general`;\n",
    "* по Санкт-Петербургу — в `spb_general`."
   ]
  },
  {
   "cell_type": "code",
   "execution_count": null,
   "metadata": {
    "id": "qeaFfM_P_Zcu"
   },
   "outputs": [
    {
     "name": "stdout",
     "output_type": "stream",
     "text": [
      "        user_id                          track                   artist  \\\n",
      "1      55204538    Delayed Because of Accident         Andreas Rönnberg   \n",
      "4      E2DC1FAE                    Soul People               Space Echo   \n",
      "6      4CB90AA5                           True             Roman Messer   \n",
      "7      F03E1C1F               Feeling This Way          Polina Griffith   \n",
      "8      8FA1D3BE       И вновь продолжается бой                  unknown   \n",
      "...         ...                            ...                      ...   \n",
      "61247  83A474E7  I Worship Only What You Bleed  The Black Dahlia Murder   \n",
      "61248  729CBB09                        My Name                   McLean   \n",
      "61250  C5E3A0D5                      Jalopiina                  unknown   \n",
      "61251  321D0506                  Freight Train            Chas McDevitt   \n",
      "61252  3A64EF84      Tell Me Sweet Little Lies             Monica Lopez   \n",
      "\n",
      "              genre    city      time        day  \n",
      "1              rock  Moscow  14:07:09     Friday  \n",
      "4             dance  Moscow  08:34:34     Monday  \n",
      "6             dance  Moscow  13:00:07  Wednesday  \n",
      "7             dance  Moscow  20:47:49  Wednesday  \n",
      "8            ruspop  Moscow  09:17:40     Friday  \n",
      "...             ...     ...       ...        ...  \n",
      "61247  extrememetal  Moscow  21:07:12     Monday  \n",
      "61248           rnb  Moscow  13:32:28  Wednesday  \n",
      "61250    industrial  Moscow  20:09:26     Friday  \n",
      "61251          rock  Moscow  21:43:59     Friday  \n",
      "61252       country  Moscow  21:59:46     Friday  \n",
      "\n",
      "[42741 rows x 7 columns]\n"
     ]
    }
   ],
   "source": [
    "# получение таблицы moscow_general из тех строк таблицы df, \n",
    "# для которых значение в столбце 'city' равно 'Moscow'\n",
    "moscow_general = df[(df['city'] == 'Moscow')]\n",
    "print(moscow_general)"
   ]
  },
  {
   "cell_type": "code",
   "execution_count": null,
   "metadata": {
    "id": "ORaVRKto_Zcu"
   },
   "outputs": [
    {
     "name": "stdout",
     "output_type": "stream",
     "text": [
      "        user_id                              track              artist  \\\n",
      "0      FFB692EC                  Kamigata To Boots    The Mass Missile   \n",
      "2        20EC38                  Funiculì funiculà         Mario Lanza   \n",
      "3      A3DD03C9              Dragons in the Sunset          Fire + Ice   \n",
      "5      842029A1                          Преданная           IMPERVTOR   \n",
      "9      E772D5C0                          Pessimist             unknown   \n",
      "...         ...                                ...                 ...   \n",
      "61239  D94F810B        Theme from the Walking Dead  Proyecto Halloween   \n",
      "61240  BC8EC5CF       Red Lips: Gta (Rover Rework)               Rover   \n",
      "61241  29E04611                       Bre Petrunko       Perunika Trio   \n",
      "61242  1B91C621             (Hello) Cloud Mountain     sleepmakeswaves   \n",
      "61249  D08D4A55  Maybe One Day (feat. Black Spade)         Blu & Exile   \n",
      "\n",
      "            genre              city      time        day  \n",
      "0            rock  Saint-Petersburg  20:28:33  Wednesday  \n",
      "2             pop  Saint-Petersburg  20:58:07  Wednesday  \n",
      "3            folk  Saint-Petersburg  08:37:09     Monday  \n",
      "5          rusrap  Saint-Petersburg  13:09:41     Friday  \n",
      "9           dance  Saint-Petersburg  21:20:49  Wednesday  \n",
      "...           ...               ...       ...        ...  \n",
      "61239        film  Saint-Petersburg  21:14:40     Monday  \n",
      "61240  electronic  Saint-Petersburg  21:06:50     Monday  \n",
      "61241       world  Saint-Petersburg  13:56:00     Monday  \n",
      "61242    postrock  Saint-Petersburg  09:22:13     Monday  \n",
      "61249      hiphop  Saint-Petersburg  10:00:00     Monday  \n",
      "\n",
      "[18512 rows x 7 columns]\n"
     ]
    }
   ],
   "source": [
    "# получение таблицы spb_general из тех строк таблицы df,\n",
    "# для которых значение в столбце 'city' равно 'Saint-Petersburg'\n",
    "spb_general = df[(df['city'] == 'Saint-Petersburg')]\n",
    "print(spb_general)"
   ]
  },
  {
   "cell_type": "markdown",
   "metadata": {
    "id": "MEJV-CX2_Zcu"
   },
   "source": [
    "Создайте функцию `genre_weekday()` с четырьмя параметрами:\n",
    "* таблица (датафрейм) с данными,\n",
    "* день недели,\n",
    "* начальная временная метка в формате 'hh:mm', \n",
    "* последняя временная метка в формате 'hh:mm'.\n",
    "\n",
    "Функция должна вернуть информацию о топ-10 жанров тех треков, которые прослушивали в указанный день, в промежутке между двумя отметками времени."
   ]
  },
  {
   "cell_type": "code",
   "execution_count": null,
   "metadata": {
    "id": "laJT9BYl_Zcu"
   },
   "outputs": [],
   "source": [
    "# Объявление функции genre_weekday() с параметрами table, day, time1, time2,\n",
    "# которая возвращает информацию о самых популярных жанрах в указанный день в\n",
    "# заданное время:\n",
    "# 1) в переменную genre_df сохраняются те строки переданного датафрейма table, для\n",
    "#    которых одновременно:\n",
    "#    - значение в столбце day равно значению аргумента day\n",
    "#    - значение в столбце time больше значения аргумента time1\n",
    "#    - значение в столбце time меньше значения аргумента time2\n",
    "#    Используйте последовательную фильтрацию с помощью логической индексации.\n",
    "# 2) сгруппировать датафрейм genre_df по столбцу genre, взять один из его\n",
    "#    столбцов и посчитать методом count() количество записей для каждого из\n",
    "#    присутствующих жанров, получившийся Series записать в переменную\n",
    "#    genre_df_count\n",
    "# 3) отсортировать genre_df_count по убыванию встречаемости и сохранить\n",
    "#    в переменную genre_df_sorted\n",
    "# 4) вернуть Series из 10 первых значений genre_df_sorted, это будут топ-10\n",
    "#    популярных жанров (в указанный день, в заданное время)\n",
    "def genre_weekday(table, day, time1, time2):\n",
    "    genre_df = table[(table['day'] == day) & (table['time'] > time1) & (table['time'] < time2)]\n",
    "    genre_df_count = genre_df. groupby('genre')['genre'].count()\n",
    "    genre_df_sorted = genre_df_count.sort_values(ascending=False).head(10)\n",
    "    return genre_df_sorted"
   ]
  },
  {
   "cell_type": "markdown",
   "metadata": {
    "id": "la2s2_PF_Zcu"
   },
   "source": [
    "Cравните результаты функции `genre_weekday()` для Москвы и Санкт-Петербурга в понедельник утром (с 7:00 до 11:00) и в пятницу вечером (с 17:00 до 23:00):"
   ]
  },
  {
   "cell_type": "code",
   "execution_count": null,
   "metadata": {
    "id": "yz7itPUQ_Zcu"
   },
   "outputs": [
    {
     "data": {
      "text/plain": [
       "genre\n",
       "pop            781\n",
       "dance          549\n",
       "electronic     480\n",
       "rock           474\n",
       "hiphop         286\n",
       "ruspop         186\n",
       "world          181\n",
       "rusrap         175\n",
       "alternative    164\n",
       "unknown        161\n",
       "Name: genre, dtype: int64"
      ]
     },
     "execution_count": 31,
     "metadata": {},
     "output_type": "execute_result"
    }
   ],
   "source": [
    "# вызов функции для утра понедельника в Москве (вместо df — таблица moscow_general)\n",
    "# объекты, хранящие время, являются строками и сравниваются как строки\n",
    "# пример вызова: genre_weekday(moscow_general, 'Monday', '07:00', '11:00')\n",
    "genre_weekday(moscow_general, 'Monday', '07:00', '11:00')\n"
   ]
  },
  {
   "cell_type": "code",
   "execution_count": null,
   "metadata": {
    "id": "kwUcHPdy_Zcu"
   },
   "outputs": [
    {
     "data": {
      "text/plain": [
       "genre\n",
       "pop            218\n",
       "dance          182\n",
       "rock           162\n",
       "electronic     147\n",
       "hiphop          80\n",
       "ruspop          64\n",
       "alternative     58\n",
       "rusrap          55\n",
       "jazz            44\n",
       "classical       40\n",
       "Name: genre, dtype: int64"
      ]
     },
     "execution_count": 32,
     "metadata": {},
     "output_type": "execute_result"
    }
   ],
   "source": [
    "# вызов функции для утра понедельника в Петербурге (вместо df — таблица spb_general)\n",
    "genre_weekday(spb_general, 'Monday', '07:00', '11:00')\n"
   ]
  },
  {
   "cell_type": "code",
   "execution_count": null,
   "metadata": {
    "id": "EzXVRE1o_Zcu"
   },
   "outputs": [
    {
     "data": {
      "text/plain": [
       "genre\n",
       "pop            713\n",
       "rock           517\n",
       "dance          495\n",
       "electronic     482\n",
       "hiphop         273\n",
       "world          208\n",
       "ruspop         170\n",
       "alternative    163\n",
       "classical      163\n",
       "rusrap         142\n",
       "Name: genre, dtype: int64"
      ]
     },
     "execution_count": 33,
     "metadata": {},
     "output_type": "execute_result"
    }
   ],
   "source": [
    "# вызов функции для вечера пятницы в Москве\n",
    "genre_weekday(moscow_general, 'Friday', '17:00', '23:00')"
   ]
  },
  {
   "cell_type": "code",
   "execution_count": null,
   "metadata": {
    "id": "JZaEKu5v_Zcu"
   },
   "outputs": [
    {
     "data": {
      "text/plain": [
       "genre\n",
       "pop            256\n",
       "rock           216\n",
       "electronic     216\n",
       "dance          210\n",
       "hiphop          97\n",
       "alternative     63\n",
       "jazz            61\n",
       "classical       60\n",
       "rusrap          59\n",
       "world           54\n",
       "Name: genre, dtype: int64"
      ]
     },
     "execution_count": 34,
     "metadata": {},
     "output_type": "execute_result"
    }
   ],
   "source": [
    "# вызов функции для вечера пятницы в Петербурге\n",
    "genre_weekday(spb_general, 'Friday', '17:00', '23:00')"
   ]
  },
  {
   "cell_type": "markdown",
   "metadata": {
    "id": "wrCe4MNX_Zcu"
   },
   "source": [
    "**Выводы**\n",
    "\n",
    "Если сравнить топ-10 жанров в понедельник утром, можно сделать такие выводы:\n",
    "\n",
    "1. В Москве и Петербурге слушают похожую музыку. Единственное отличие — в московский рейтинг вошёл жанр “world”, а в петербургский — джаз и классика.\n",
    "\n",
    "2. В Москве пропущенных значений оказалось так много, что значение `'unknown'` заняло десятое место среди самых популярных жанров. Значит, пропущенные значения занимают существенную долю в данных и угрожают достоверности исследования.\n",
    "\n",
    "Вечер пятницы не меняет эту картину. Некоторые жанры поднимаются немного выше, другие спускаются, но в целом топ-10 остаётся тем же самым.\n",
    "\n",
    "Таким образом, вторая гипотеза подтвердилась лишь частично:\n",
    "* Пользователи слушают похожую музыку в начале недели и в конце.\n",
    "* Разница между Москвой и Петербургом не слишком выражена. В Москве чаще слушают русскую популярную музыку, в Петербурге — джаз.\n",
    "\n",
    "Однако пропуски в данных ставят под сомнение этот результат. В Москве их так много, что рейтинг топ-10 мог бы выглядеть иначе, если бы не утерянные  данные о жанрах."
   ]
  },
  {
   "cell_type": "markdown",
   "metadata": {
    "id": "JolODAqr_Zcu"
   },
   "source": [
    "### Жанровые предпочтения в Москве и Петербурге\n",
    "\n",
    "Гипотеза: Петербург — столица рэпа, музыку этого жанра там слушают чаще, чем в Москве.  А Москва — город контрастов, в котором, тем не менее, преобладает поп-музыка."
   ]
  },
  {
   "cell_type": "markdown",
   "metadata": {
    "id": "DlegSvaT_Zcu"
   },
   "source": [
    "Сгруппируйте таблицу `moscow_general` по жанру и посчитайте прослушивания треков каждого жанра методом `count()`. Затем отсортируйте результат в порядке убывания и сохраните его в таблице `moscow_genres`."
   ]
  },
  {
   "cell_type": "code",
   "execution_count": null,
   "metadata": {
    "id": "r19lIPke_Zcu"
   },
   "outputs": [],
   "source": [
    "# одной строкой: группировка таблицы moscow_general по столбцу 'genre', \n",
    "# подсчёт числа значений 'genre' в этой группировке методом count(), \n",
    "# сортировка получившегося Series в порядке убывания и сохранение в moscow_genres\n",
    "moscow_genres = moscow_general.groupby('genre')['genre'].count().sort_values(ascending=False)"
   ]
  },
  {
   "cell_type": "markdown",
   "metadata": {
    "id": "6kMuomxTiIr8"
   },
   "source": [
    "Выведите на экран первые десять строк `moscow_genres`:"
   ]
  },
  {
   "cell_type": "code",
   "execution_count": null,
   "metadata": {
    "id": "WhCSooF8_Zcv"
   },
   "outputs": [
    {
     "name": "stdout",
     "output_type": "stream",
     "text": [
      "genre\n",
      "pop            5892\n",
      "dance          4435\n",
      "rock           3965\n",
      "electronic     3786\n",
      "hiphop         2096\n",
      "classical      1616\n",
      "world          1432\n",
      "alternative    1379\n",
      "ruspop         1372\n",
      "rusrap         1161\n",
      "Name: genre, dtype: int64\n"
     ]
    }
   ],
   "source": [
    "# просмотр первых 10 строк moscow_genres\n",
    "print(moscow_genres.head(10))"
   ]
  },
  {
   "cell_type": "markdown",
   "metadata": {
    "id": "cnPG2vnN_Zcv"
   },
   "source": [
    "Теперь повторите то же и для Петербурга.\n",
    "\n",
    "Сгруппируйте таблицу `spb_general` по жанру. Посчитайте прослушивания треков каждого жанра. Результат отсортируйте в порядке убывания и сохраните в таблице `spb_genres`:\n"
   ]
  },
  {
   "cell_type": "code",
   "execution_count": null,
   "metadata": {
    "id": "gluLIpE7_Zcv"
   },
   "outputs": [],
   "source": [
    "# одной строкой: группировка таблицы spb_general по столбцу 'genre', \n",
    "# подсчёт числа значений 'genre' в этой группировке методом count(), \n",
    "# сортировка получившегося Series в порядке убывания и сохранение в spb_genres\n",
    "spb_general = spb_general.groupby('genre')['genre'].count().sort_values(ascending=False)"
   ]
  },
  {
   "cell_type": "markdown",
   "metadata": {
    "id": "5Doha_ODgyQ8"
   },
   "source": [
    "Выведите на экран первые десять строк `spb_genres`:"
   ]
  },
  {
   "cell_type": "code",
   "execution_count": null,
   "metadata": {
    "id": "uaGJHjVU_Zcv"
   },
   "outputs": [
    {
     "name": "stdout",
     "output_type": "stream",
     "text": [
      "genre\n",
      "pop            2431\n",
      "dance          1932\n",
      "rock           1879\n",
      "electronic     1736\n",
      "hiphop          960\n",
      "alternative     649\n",
      "classical       646\n",
      "rusrap          564\n",
      "ruspop          538\n",
      "world           515\n",
      "Name: genre, dtype: int64\n"
     ]
    }
   ],
   "source": [
    "# просмотр первых 10 строк spb_genres\n",
    "print(spb_general.head(10))"
   ]
  },
  {
   "cell_type": "markdown",
   "metadata": {
    "id": "RY51YJYu_Zcv"
   },
   "source": [
    "**Выводы**"
   ]
  },
  {
   "cell_type": "markdown",
   "metadata": {
    "id": "nVhnJEm__Zcv"
   },
   "source": [
    "Гипотеза частично подтвердилась:\n",
    "* Поп-музыка — самый популярный жанр в Москве, как и предполагала гипотеза. Более того, в топ-10 жанров встречается близкий жанр — русская популярная музыка.\n",
    "* Вопреки ожиданиям, рэп одинаково популярен в Москве и Петербурге. \n"
   ]
  },
  {
   "cell_type": "markdown",
   "metadata": {
    "id": "ykKQ0N65_Zcv"
   },
   "source": [
    "## Итоги исследования"
   ]
  },
  {
   "cell_type": "markdown",
   "metadata": {
    "id": "tjUwbHb3_Zcv"
   },
   "source": [
    "Вы проверили три гипотезы и установили:\n",
    "\n",
    "1. День недели по-разному влияет на активность пользователей в Москве и Петербурге. \n",
    "\n",
    "Первая гипотеза полностью подтвердилась.\n",
    "\n",
    "2. Музыкальные предпочтения не сильно меняются в течение недели — будь то Москва или Петербург. Небольшие различия заметны в начале недели, по понедельникам:\n",
    "* в Москве слушают музыку жанра “world”,\n",
    "* в Петербурге — джаз и классику.\n",
    "\n",
    "Таким образом, вторая гипотеза подтвердилась лишь отчасти. Этот результат мог оказаться иным, если бы не пропуски в данных.\n",
    "\n",
    "3. Во вкусах пользователей Москвы и Петербурга больше общего чем различий. Вопреки ожиданиям, предпочтения жанров в Петербурге напоминают московские.\n",
    "\n",
    "Третья гипотеза не подтвердилась. Если различия в предпочтениях и существуют, на основной массе пользователей они незаметны.\n",
    "\n",
    "**На практике исследования содержат проверки статистических гипотез.**\n",
    "Из данных одного сервиса не всегда можно сделать вывод о всех жителях города.\n",
    "Проверки статистических гипотез покажут, насколько они достоверны, исходя из имеющихся данных. \n",
    "С методами проверок гипотез вы ещё познакомитесь в следующих темах."
   ]
  },
  {
   "cell_type": "code",
   "execution_count": null,
   "metadata": {},
   "outputs": [],
   "source": []
  }
 ],
 "metadata": {
  "ExecuteTimeLog": [
   {
    "duration": 871,
    "start_time": "2021-10-25T11:42:56.312Z"
   },
   {
    "duration": 192,
    "start_time": "2021-10-25T11:45:20.806Z"
   },
   {
    "duration": 11,
    "start_time": "2021-10-25T11:46:03.213Z"
   },
   {
    "duration": 26,
    "start_time": "2021-10-25T11:46:46.676Z"
   },
   {
    "duration": 45,
    "start_time": "2021-10-25T11:47:54.080Z"
   },
   {
    "duration": 5,
    "start_time": "2021-10-25T11:53:22.058Z"
   },
   {
    "duration": 39,
    "start_time": "2021-10-25T12:03:57.521Z"
   },
   {
    "duration": 4,
    "start_time": "2021-10-25T12:04:19.881Z"
   },
   {
    "duration": 28,
    "start_time": "2021-10-25T12:09:25.019Z"
   },
   {
    "duration": 24,
    "start_time": "2021-10-25T12:25:03.917Z"
   },
   {
    "duration": 29,
    "start_time": "2021-10-25T12:25:22.314Z"
   },
   {
    "duration": 25,
    "start_time": "2021-10-25T12:26:22.591Z"
   },
   {
    "duration": 29,
    "start_time": "2021-10-25T12:26:25.806Z"
   },
   {
    "duration": 549,
    "start_time": "2021-10-25T12:36:51.334Z"
   },
   {
    "duration": 352,
    "start_time": "2021-10-25T12:37:15.021Z"
   },
   {
    "duration": 349,
    "start_time": "2021-10-25T12:37:51.851Z"
   },
   {
    "duration": 437,
    "start_time": "2021-10-25T12:40:12.206Z"
   },
   {
    "duration": 344,
    "start_time": "2021-10-25T12:40:23.325Z"
   },
   {
    "duration": 348,
    "start_time": "2021-10-25T12:41:33.026Z"
   },
   {
    "duration": 94,
    "start_time": "2021-10-25T12:43:03.294Z"
   },
   {
    "duration": 86,
    "start_time": "2021-10-25T12:43:13.885Z"
   },
   {
    "duration": 348,
    "start_time": "2021-10-25T12:49:41.805Z"
   },
   {
    "duration": 99,
    "start_time": "2021-10-25T12:50:17.989Z"
   },
   {
    "duration": 390,
    "start_time": "2021-10-25T12:51:00.617Z"
   },
   {
    "duration": 89,
    "start_time": "2021-10-25T12:51:12.074Z"
   },
   {
    "duration": 339,
    "start_time": "2021-10-25T12:52:09.039Z"
   },
   {
    "duration": 99,
    "start_time": "2021-10-25T12:52:30.726Z"
   },
   {
    "duration": 78,
    "start_time": "2021-10-25T12:52:54.485Z"
   },
   {
    "duration": 7,
    "start_time": "2021-10-25T13:01:14.170Z"
   },
   {
    "duration": 4,
    "start_time": "2021-10-25T13:26:59.834Z"
   },
   {
    "duration": 4,
    "start_time": "2021-10-25T13:32:02.981Z"
   },
   {
    "duration": 21,
    "start_time": "2021-10-25T13:42:07.147Z"
   },
   {
    "duration": 9,
    "start_time": "2021-10-25T13:42:10.073Z"
   },
   {
    "duration": 21,
    "start_time": "2021-10-25T13:52:42.247Z"
   },
   {
    "duration": 8,
    "start_time": "2021-10-25T13:52:44.319Z"
   },
   {
    "duration": 13,
    "start_time": "2021-10-25T13:55:27.880Z"
   },
   {
    "duration": 19,
    "start_time": "2021-10-25T14:00:29.860Z"
   },
   {
    "duration": 383,
    "start_time": "2021-10-25T14:21:53.727Z"
   },
   {
    "duration": 5,
    "start_time": "2021-10-25T14:25:50.988Z"
   },
   {
    "duration": 1427,
    "start_time": "2021-10-25T14:25:52.955Z"
   },
   {
    "duration": -885,
    "start_time": "2021-10-25T14:27:37.098Z"
   },
   {
    "duration": 12357,
    "start_time": "2021-10-25T14:30:00.706Z"
   },
   {
    "duration": -907,
    "start_time": "2021-10-25T14:30:13.973Z"
   },
   {
    "duration": -911,
    "start_time": "2021-10-25T14:30:13.978Z"
   },
   {
    "duration": -913,
    "start_time": "2021-10-25T14:30:13.982Z"
   },
   {
    "duration": -916,
    "start_time": "2021-10-25T14:30:13.987Z"
   },
   {
    "duration": -921,
    "start_time": "2021-10-25T14:30:13.994Z"
   },
   {
    "duration": 10322,
    "start_time": "2021-10-25T14:31:26.790Z"
   },
   {
    "duration": 770,
    "start_time": "2021-10-25T14:34:54.718Z"
   },
   {
    "duration": 840,
    "start_time": "2021-10-25T14:41:42.045Z"
   },
   {
    "duration": 130,
    "start_time": "2021-10-25T14:43:11.364Z"
   },
   {
    "duration": 382,
    "start_time": "2021-10-25T14:43:48.287Z"
   },
   {
    "duration": 420,
    "start_time": "2021-10-25T14:44:30.653Z"
   },
   {
    "duration": 5,
    "start_time": "2021-10-25T15:07:22.861Z"
   },
   {
    "duration": 386,
    "start_time": "2021-10-25T15:07:26.028Z"
   },
   {
    "duration": 3,
    "start_time": "2021-10-25T15:08:20.352Z"
   },
   {
    "duration": 191,
    "start_time": "2021-10-25T15:08:22.352Z"
   },
   {
    "duration": 15,
    "start_time": "2021-10-25T15:08:26.075Z"
   },
   {
    "duration": 40,
    "start_time": "2021-10-25T15:08:30.021Z"
   },
   {
    "duration": 5,
    "start_time": "2021-10-25T15:08:37.140Z"
   },
   {
    "duration": 4,
    "start_time": "2021-10-25T15:09:52.313Z"
   },
   {
    "duration": 316,
    "start_time": "2021-10-25T15:09:52.321Z"
   },
   {
    "duration": 20,
    "start_time": "2021-10-25T15:09:52.641Z"
   },
   {
    "duration": 43,
    "start_time": "2021-10-25T15:09:52.664Z"
   },
   {
    "duration": 12,
    "start_time": "2021-10-25T15:09:52.710Z"
   },
   {
    "duration": 41,
    "start_time": "2021-10-25T15:09:52.724Z"
   },
   {
    "duration": 5,
    "start_time": "2021-10-25T15:09:52.767Z"
   },
   {
    "duration": 53,
    "start_time": "2021-10-25T15:09:52.776Z"
   },
   {
    "duration": 41,
    "start_time": "2021-10-25T15:09:52.832Z"
   },
   {
    "duration": 34,
    "start_time": "2021-10-25T15:09:52.876Z"
   },
   {
    "duration": 145,
    "start_time": "2021-10-25T15:09:52.913Z"
   },
   {
    "duration": 150,
    "start_time": "2021-10-25T15:09:53.061Z"
   },
   {
    "duration": 120,
    "start_time": "2021-10-25T15:09:53.215Z"
   },
   {
    "duration": 20,
    "start_time": "2021-10-25T15:09:53.338Z"
   },
   {
    "duration": 5,
    "start_time": "2021-10-25T15:09:53.360Z"
   },
   {
    "duration": 29,
    "start_time": "2021-10-25T15:09:53.368Z"
   },
   {
    "duration": 11,
    "start_time": "2021-10-25T15:09:53.400Z"
   },
   {
    "duration": 57,
    "start_time": "2021-10-25T15:09:53.414Z"
   },
   {
    "duration": 19,
    "start_time": "2021-10-25T15:09:53.475Z"
   },
   {
    "duration": 6,
    "start_time": "2021-10-25T15:09:53.497Z"
   },
   {
    "duration": 411,
    "start_time": "2021-10-25T15:09:53.507Z"
   },
   {
    "duration": -949,
    "start_time": "2021-10-25T15:09:54.872Z"
   },
   {
    "duration": -958,
    "start_time": "2021-10-25T15:09:54.883Z"
   },
   {
    "duration": -959,
    "start_time": "2021-10-25T15:09:54.887Z"
   },
   {
    "duration": -961,
    "start_time": "2021-10-25T15:09:54.891Z"
   },
   {
    "duration": -962,
    "start_time": "2021-10-25T15:09:54.895Z"
   },
   {
    "duration": -965,
    "start_time": "2021-10-25T15:09:54.900Z"
   },
   {
    "duration": -967,
    "start_time": "2021-10-25T15:09:54.904Z"
   },
   {
    "duration": -968,
    "start_time": "2021-10-25T15:09:54.907Z"
   },
   {
    "duration": -969,
    "start_time": "2021-10-25T15:09:54.911Z"
   },
   {
    "duration": -972,
    "start_time": "2021-10-25T15:09:54.916Z"
   },
   {
    "duration": -973,
    "start_time": "2021-10-25T15:09:54.919Z"
   },
   {
    "duration": -976,
    "start_time": "2021-10-25T15:09:54.924Z"
   },
   {
    "duration": -977,
    "start_time": "2021-10-25T15:09:54.927Z"
   },
   {
    "duration": -980,
    "start_time": "2021-10-25T15:09:54.932Z"
   },
   {
    "duration": -981,
    "start_time": "2021-10-25T15:09:54.935Z"
   },
   {
    "duration": -984,
    "start_time": "2021-10-25T15:09:54.939Z"
   },
   {
    "duration": -995,
    "start_time": "2021-10-25T15:09:54.951Z"
   },
   {
    "duration": 2739,
    "start_time": "2021-10-25T15:10:59.531Z"
   },
   {
    "duration": 1596,
    "start_time": "2021-10-25T15:12:25.792Z"
   },
   {
    "duration": 906,
    "start_time": "2021-10-25T15:13:03.861Z"
   },
   {
    "duration": 1490,
    "start_time": "2021-10-25T15:14:17.717Z"
   },
   {
    "duration": 1810,
    "start_time": "2021-10-25T15:16:57.270Z"
   },
   {
    "duration": 182,
    "start_time": "2021-10-25T15:46:57.673Z"
   },
   {
    "duration": 5,
    "start_time": "2021-10-25T15:47:06.854Z"
   },
   {
    "duration": 11546,
    "start_time": "2021-10-25T15:47:09.992Z"
   },
   {
    "duration": -1034,
    "start_time": "2021-10-25T15:47:22.574Z"
   },
   {
    "duration": -1038,
    "start_time": "2021-10-25T15:47:22.580Z"
   },
   {
    "duration": -1048,
    "start_time": "2021-10-25T15:47:22.591Z"
   },
   {
    "duration": -1051,
    "start_time": "2021-10-25T15:47:22.595Z"
   },
   {
    "duration": -1056,
    "start_time": "2021-10-25T15:47:22.601Z"
   },
   {
    "duration": -1058,
    "start_time": "2021-10-25T15:47:22.605Z"
   },
   {
    "duration": 4,
    "start_time": "2021-10-25T15:54:15.605Z"
   },
   {
    "duration": 208,
    "start_time": "2021-10-25T15:54:15.611Z"
   },
   {
    "duration": 15,
    "start_time": "2021-10-25T15:54:15.821Z"
   },
   {
    "duration": 51,
    "start_time": "2021-10-25T15:54:15.838Z"
   },
   {
    "duration": 5,
    "start_time": "2021-10-25T15:54:15.891Z"
   },
   {
    "duration": 22,
    "start_time": "2021-10-25T15:54:15.899Z"
   },
   {
    "duration": 35,
    "start_time": "2021-10-25T15:54:15.925Z"
   },
   {
    "duration": 33,
    "start_time": "2021-10-25T15:54:15.963Z"
   },
   {
    "duration": 24,
    "start_time": "2021-10-25T15:54:15.999Z"
   },
   {
    "duration": 55,
    "start_time": "2021-10-25T15:54:16.025Z"
   },
   {
    "duration": 118,
    "start_time": "2021-10-25T15:54:16.082Z"
   },
   {
    "duration": 114,
    "start_time": "2021-10-25T15:54:16.203Z"
   },
   {
    "duration": 82,
    "start_time": "2021-10-25T15:54:16.320Z"
   },
   {
    "duration": 8,
    "start_time": "2021-10-25T15:54:16.404Z"
   },
   {
    "duration": 9,
    "start_time": "2021-10-25T15:54:16.414Z"
   },
   {
    "duration": 39,
    "start_time": "2021-10-25T15:54:16.425Z"
   },
   {
    "duration": 7,
    "start_time": "2021-10-25T15:54:16.466Z"
   },
   {
    "duration": 13,
    "start_time": "2021-10-25T15:54:16.476Z"
   },
   {
    "duration": 13,
    "start_time": "2021-10-25T15:54:16.493Z"
   },
   {
    "duration": 5,
    "start_time": "2021-10-25T15:54:16.509Z"
   },
   {
    "duration": 891,
    "start_time": "2021-10-25T15:54:16.517Z"
   },
   {
    "duration": -1032,
    "start_time": "2021-10-25T15:54:18.443Z"
   },
   {
    "duration": -1036,
    "start_time": "2021-10-25T15:54:18.448Z"
   },
   {
    "duration": -1038,
    "start_time": "2021-10-25T15:54:18.452Z"
   },
   {
    "duration": -1041,
    "start_time": "2021-10-25T15:54:18.456Z"
   },
   {
    "duration": -1044,
    "start_time": "2021-10-25T15:54:18.461Z"
   },
   {
    "duration": -1047,
    "start_time": "2021-10-25T15:54:18.465Z"
   },
   {
    "duration": -1056,
    "start_time": "2021-10-25T15:54:18.476Z"
   },
   {
    "duration": -1059,
    "start_time": "2021-10-25T15:54:18.480Z"
   },
   {
    "duration": -1063,
    "start_time": "2021-10-25T15:54:18.485Z"
   },
   {
    "duration": -1065,
    "start_time": "2021-10-25T15:54:18.488Z"
   },
   {
    "duration": -1068,
    "start_time": "2021-10-25T15:54:18.492Z"
   },
   {
    "duration": -1070,
    "start_time": "2021-10-25T15:54:18.496Z"
   },
   {
    "duration": -1073,
    "start_time": "2021-10-25T15:54:18.500Z"
   },
   {
    "duration": -1074,
    "start_time": "2021-10-25T15:54:18.503Z"
   },
   {
    "duration": -1077,
    "start_time": "2021-10-25T15:54:18.507Z"
   },
   {
    "duration": -1080,
    "start_time": "2021-10-25T15:54:18.511Z"
   },
   {
    "duration": -1083,
    "start_time": "2021-10-25T15:54:18.515Z"
   },
   {
    "duration": 3,
    "start_time": "2021-10-25T15:54:58.846Z"
   },
   {
    "duration": 213,
    "start_time": "2021-10-25T15:54:58.852Z"
   },
   {
    "duration": 15,
    "start_time": "2021-10-25T15:54:59.068Z"
   },
   {
    "duration": 40,
    "start_time": "2021-10-25T15:54:59.085Z"
   },
   {
    "duration": 4,
    "start_time": "2021-10-25T15:54:59.127Z"
   },
   {
    "duration": 46,
    "start_time": "2021-10-25T15:54:59.134Z"
   },
   {
    "duration": 4,
    "start_time": "2021-10-25T15:54:59.184Z"
   },
   {
    "duration": 64,
    "start_time": "2021-10-25T15:54:59.193Z"
   },
   {
    "duration": 27,
    "start_time": "2021-10-25T15:54:59.260Z"
   },
   {
    "duration": 35,
    "start_time": "2021-10-25T15:54:59.290Z"
   },
   {
    "duration": 114,
    "start_time": "2021-10-25T15:54:59.327Z"
   },
   {
    "duration": 107,
    "start_time": "2021-10-25T15:54:59.457Z"
   },
   {
    "duration": 91,
    "start_time": "2021-10-25T15:54:59.567Z"
   },
   {
    "duration": 7,
    "start_time": "2021-10-25T15:54:59.661Z"
   },
   {
    "duration": 4,
    "start_time": "2021-10-25T15:54:59.670Z"
   },
   {
    "duration": 26,
    "start_time": "2021-10-25T15:54:59.677Z"
   },
   {
    "duration": 8,
    "start_time": "2021-10-25T15:54:59.705Z"
   },
   {
    "duration": 45,
    "start_time": "2021-10-25T15:54:59.716Z"
   },
   {
    "duration": 13,
    "start_time": "2021-10-25T15:54:59.766Z"
   },
   {
    "duration": 4,
    "start_time": "2021-10-25T15:54:59.782Z"
   },
   {
    "duration": 786,
    "start_time": "2021-10-25T15:54:59.788Z"
   },
   {
    "duration": -1032,
    "start_time": "2021-10-25T15:55:01.608Z"
   },
   {
    "duration": -1036,
    "start_time": "2021-10-25T15:55:01.614Z"
   },
   {
    "duration": -1040,
    "start_time": "2021-10-25T15:55:01.619Z"
   },
   {
    "duration": -1068,
    "start_time": "2021-10-25T15:55:01.649Z"
   },
   {
    "duration": -1093,
    "start_time": "2021-10-25T15:55:01.675Z"
   },
   {
    "duration": -1105,
    "start_time": "2021-10-25T15:55:01.689Z"
   },
   {
    "duration": -1110,
    "start_time": "2021-10-25T15:55:01.695Z"
   },
   {
    "duration": -1124,
    "start_time": "2021-10-25T15:55:01.710Z"
   },
   {
    "duration": -1135,
    "start_time": "2021-10-25T15:55:01.722Z"
   },
   {
    "duration": -1139,
    "start_time": "2021-10-25T15:55:01.728Z"
   },
   {
    "duration": -1150,
    "start_time": "2021-10-25T15:55:01.740Z"
   },
   {
    "duration": -1156,
    "start_time": "2021-10-25T15:55:01.747Z"
   },
   {
    "duration": -1168,
    "start_time": "2021-10-25T15:55:01.761Z"
   },
   {
    "duration": -1176,
    "start_time": "2021-10-25T15:55:01.770Z"
   },
   {
    "duration": -1179,
    "start_time": "2021-10-25T15:55:01.774Z"
   },
   {
    "duration": -1182,
    "start_time": "2021-10-25T15:55:01.779Z"
   },
   {
    "duration": -1185,
    "start_time": "2021-10-25T15:55:01.783Z"
   },
   {
    "duration": 4,
    "start_time": "2021-10-25T15:55:56.438Z"
   },
   {
    "duration": 223,
    "start_time": "2021-10-25T15:55:56.444Z"
   },
   {
    "duration": 15,
    "start_time": "2021-10-25T15:55:56.670Z"
   },
   {
    "duration": 39,
    "start_time": "2021-10-25T15:55:56.688Z"
   },
   {
    "duration": 29,
    "start_time": "2021-10-25T15:55:56.729Z"
   },
   {
    "duration": 24,
    "start_time": "2021-10-25T15:55:56.761Z"
   },
   {
    "duration": 4,
    "start_time": "2021-10-25T15:55:56.788Z"
   },
   {
    "duration": 32,
    "start_time": "2021-10-25T15:55:56.795Z"
   },
   {
    "duration": 22,
    "start_time": "2021-10-25T15:55:56.858Z"
   },
   {
    "duration": 33,
    "start_time": "2021-10-25T15:55:56.883Z"
   },
   {
    "duration": 106,
    "start_time": "2021-10-25T15:55:56.918Z"
   },
   {
    "duration": 106,
    "start_time": "2021-10-25T15:55:57.027Z"
   },
   {
    "duration": 94,
    "start_time": "2021-10-25T15:55:57.135Z"
   },
   {
    "duration": 8,
    "start_time": "2021-10-25T15:55:57.231Z"
   },
   {
    "duration": 17,
    "start_time": "2021-10-25T15:55:57.241Z"
   },
   {
    "duration": 25,
    "start_time": "2021-10-25T15:55:57.260Z"
   },
   {
    "duration": 9,
    "start_time": "2021-10-25T15:55:57.287Z"
   },
   {
    "duration": 17,
    "start_time": "2021-10-25T15:55:57.298Z"
   },
   {
    "duration": 45,
    "start_time": "2021-10-25T15:55:57.320Z"
   },
   {
    "duration": 5,
    "start_time": "2021-10-25T15:55:57.368Z"
   },
   {
    "duration": 27,
    "start_time": "2021-10-25T15:55:57.375Z"
   },
   {
    "duration": 17,
    "start_time": "2021-10-25T15:55:57.404Z"
   },
   {
    "duration": 48,
    "start_time": "2021-10-25T15:55:57.424Z"
   },
   {
    "duration": 20,
    "start_time": "2021-10-25T15:55:57.474Z"
   },
   {
    "duration": 10385,
    "start_time": "2021-10-25T15:55:57.497Z"
   },
   {
    "duration": -1037,
    "start_time": "2021-10-25T15:56:08.922Z"
   },
   {
    "duration": -1041,
    "start_time": "2021-10-25T15:56:08.928Z"
   },
   {
    "duration": -1043,
    "start_time": "2021-10-25T15:56:08.932Z"
   },
   {
    "duration": -1054,
    "start_time": "2021-10-25T15:56:08.945Z"
   },
   {
    "duration": -1056,
    "start_time": "2021-10-25T15:56:08.949Z"
   },
   {
    "duration": -1058,
    "start_time": "2021-10-25T15:56:08.953Z"
   },
   {
    "duration": -1059,
    "start_time": "2021-10-25T15:56:08.957Z"
   },
   {
    "duration": -1062,
    "start_time": "2021-10-25T15:56:08.962Z"
   },
   {
    "duration": -1064,
    "start_time": "2021-10-25T15:56:08.966Z"
   },
   {
    "duration": -1066,
    "start_time": "2021-10-25T15:56:08.970Z"
   },
   {
    "duration": -1068,
    "start_time": "2021-10-25T15:56:08.974Z"
   },
   {
    "duration": -1072,
    "start_time": "2021-10-25T15:56:08.980Z"
   },
   {
    "duration": -1075,
    "start_time": "2021-10-25T15:56:08.985Z"
   },
   {
    "duration": 22,
    "start_time": "2021-10-25T15:57:47.767Z"
   },
   {
    "duration": 18,
    "start_time": "2021-10-25T15:57:51.046Z"
   },
   {
    "duration": 375,
    "start_time": "2021-10-25T16:13:10.744Z"
   },
   {
    "duration": 377,
    "start_time": "2021-10-25T16:13:56.799Z"
   },
   {
    "duration": 6,
    "start_time": "2021-10-25T16:21:09.932Z"
   },
   {
    "duration": 11,
    "start_time": "2021-10-25T16:22:24.392Z"
   },
   {
    "duration": 13,
    "start_time": "2021-10-25T16:25:05.139Z"
   },
   {
    "duration": 118,
    "start_time": "2021-10-26T05:31:45.037Z"
   },
   {
    "duration": 428,
    "start_time": "2021-10-26T05:31:56.060Z"
   },
   {
    "duration": 372,
    "start_time": "2021-10-26T05:32:29.490Z"
   },
   {
    "duration": 384,
    "start_time": "2021-10-26T05:34:10.589Z"
   },
   {
    "duration": 373,
    "start_time": "2021-10-26T05:35:21.834Z"
   },
   {
    "duration": 354,
    "start_time": "2021-10-26T05:35:54.793Z"
   },
   {
    "duration": 363,
    "start_time": "2021-10-26T05:38:27.963Z"
   },
   {
    "duration": 837,
    "start_time": "2021-10-26T05:38:46.367Z"
   },
   {
    "duration": 186,
    "start_time": "2021-10-26T05:38:47.207Z"
   },
   {
    "duration": 25,
    "start_time": "2021-10-26T05:38:47.396Z"
   },
   {
    "duration": 32,
    "start_time": "2021-10-26T05:38:47.424Z"
   },
   {
    "duration": 4,
    "start_time": "2021-10-26T05:38:47.458Z"
   },
   {
    "duration": 63,
    "start_time": "2021-10-26T05:38:47.464Z"
   },
   {
    "duration": 8,
    "start_time": "2021-10-26T05:38:47.529Z"
   },
   {
    "duration": 31,
    "start_time": "2021-10-26T05:38:47.541Z"
   },
   {
    "duration": 47,
    "start_time": "2021-10-26T05:38:47.575Z"
   },
   {
    "duration": 30,
    "start_time": "2021-10-26T05:38:47.625Z"
   },
   {
    "duration": 109,
    "start_time": "2021-10-26T05:38:47.657Z"
   },
   {
    "duration": 111,
    "start_time": "2021-10-26T05:38:47.769Z"
   },
   {
    "duration": 84,
    "start_time": "2021-10-26T05:38:47.882Z"
   },
   {
    "duration": 7,
    "start_time": "2021-10-26T05:38:47.969Z"
   },
   {
    "duration": 21,
    "start_time": "2021-10-26T05:38:47.979Z"
   },
   {
    "duration": 22,
    "start_time": "2021-10-26T05:38:48.002Z"
   },
   {
    "duration": 12,
    "start_time": "2021-10-26T05:38:48.026Z"
   },
   {
    "duration": 13,
    "start_time": "2021-10-26T05:38:48.040Z"
   },
   {
    "duration": 44,
    "start_time": "2021-10-26T05:38:48.056Z"
   },
   {
    "duration": 4,
    "start_time": "2021-10-26T05:38:48.103Z"
   },
   {
    "duration": 26,
    "start_time": "2021-10-26T05:38:48.109Z"
   },
   {
    "duration": 17,
    "start_time": "2021-10-26T05:38:48.137Z"
   },
   {
    "duration": 49,
    "start_time": "2021-10-26T05:38:48.160Z"
   },
   {
    "duration": 17,
    "start_time": "2021-10-26T05:38:48.211Z"
   },
   {
    "duration": 21,
    "start_time": "2021-10-26T05:38:48.230Z"
   },
   {
    "duration": 50,
    "start_time": "2021-10-26T05:38:48.253Z"
   },
   {
    "duration": 12,
    "start_time": "2021-10-26T05:38:48.305Z"
   },
   {
    "duration": 24,
    "start_time": "2021-10-26T05:38:48.319Z"
   },
   {
    "duration": 2,
    "start_time": "2021-10-26T05:38:48.345Z"
   },
   {
    "duration": 5,
    "start_time": "2021-10-26T05:38:48.350Z"
   },
   {
    "duration": 48,
    "start_time": "2021-10-26T05:38:48.358Z"
   },
   {
    "duration": 10,
    "start_time": "2021-10-26T05:38:48.408Z"
   },
   {
    "duration": 7,
    "start_time": "2021-10-26T05:38:48.421Z"
   },
   {
    "duration": 7,
    "start_time": "2021-10-26T05:38:48.430Z"
   },
   {
    "duration": 8,
    "start_time": "2021-10-26T05:38:48.439Z"
   },
   {
    "duration": 7,
    "start_time": "2021-10-26T05:38:48.450Z"
   },
   {
    "duration": 7,
    "start_time": "2021-10-26T05:38:48.460Z"
   },
   {
    "duration": 10,
    "start_time": "2021-10-26T05:38:48.470Z"
   },
   {
    "duration": 408,
    "start_time": "2021-10-26T05:40:42.269Z"
   },
   {
    "duration": 20,
    "start_time": "2021-10-26T05:41:09.012Z"
   },
   {
    "duration": 5,
    "start_time": "2021-10-26T05:57:57.180Z"
   },
   {
    "duration": 25,
    "start_time": "2021-10-26T06:16:09.469Z"
   },
   {
    "duration": 27,
    "start_time": "2021-10-26T06:28:05.913Z"
   },
   {
    "duration": 26,
    "start_time": "2021-10-26T06:28:07.328Z"
   },
   {
    "duration": 30,
    "start_time": "2021-10-26T06:28:07.855Z"
   },
   {
    "duration": 28,
    "start_time": "2021-10-26T06:28:08.757Z"
   },
   {
    "duration": 34,
    "start_time": "2021-10-26T06:40:48.297Z"
   },
   {
    "duration": 30,
    "start_time": "2021-10-26T06:40:54.359Z"
   },
   {
    "duration": 30,
    "start_time": "2021-10-26T06:40:56.949Z"
   },
   {
    "duration": 34,
    "start_time": "2021-10-26T06:40:59.405Z"
   },
   {
    "duration": 7,
    "start_time": "2021-10-26T06:41:40.981Z"
   },
   {
    "duration": 42,
    "start_time": "2021-10-26T06:41:42.939Z"
   },
   {
    "duration": 33,
    "start_time": "2021-10-26T06:41:43.891Z"
   },
   {
    "duration": 32,
    "start_time": "2021-10-26T06:41:44.571Z"
   },
   {
    "duration": 33,
    "start_time": "2021-10-26T06:41:46.308Z"
   },
   {
    "duration": 4,
    "start_time": "2021-10-26T06:45:17.714Z"
   },
   {
    "duration": 242,
    "start_time": "2021-10-26T06:45:17.722Z"
   },
   {
    "duration": 17,
    "start_time": "2021-10-26T06:45:17.967Z"
   },
   {
    "duration": 34,
    "start_time": "2021-10-26T06:45:18.001Z"
   },
   {
    "duration": 4,
    "start_time": "2021-10-26T06:45:18.038Z"
   },
   {
    "duration": 26,
    "start_time": "2021-10-26T06:45:18.044Z"
   },
   {
    "duration": 29,
    "start_time": "2021-10-26T06:45:18.074Z"
   },
   {
    "duration": 35,
    "start_time": "2021-10-26T06:45:18.106Z"
   },
   {
    "duration": 30,
    "start_time": "2021-10-26T06:45:18.143Z"
   },
   {
    "duration": 52,
    "start_time": "2021-10-26T06:45:18.175Z"
   },
   {
    "duration": 113,
    "start_time": "2021-10-26T06:45:18.230Z"
   },
   {
    "duration": 107,
    "start_time": "2021-10-26T06:45:18.345Z"
   },
   {
    "duration": 93,
    "start_time": "2021-10-26T06:45:18.454Z"
   },
   {
    "duration": 9,
    "start_time": "2021-10-26T06:45:18.550Z"
   },
   {
    "duration": 5,
    "start_time": "2021-10-26T06:45:18.562Z"
   },
   {
    "duration": 49,
    "start_time": "2021-10-26T06:45:18.570Z"
   },
   {
    "duration": 10,
    "start_time": "2021-10-26T06:45:18.622Z"
   },
   {
    "duration": 15,
    "start_time": "2021-10-26T06:45:18.635Z"
   },
   {
    "duration": 51,
    "start_time": "2021-10-26T06:45:18.657Z"
   },
   {
    "duration": 5,
    "start_time": "2021-10-26T06:45:18.711Z"
   },
   {
    "duration": 26,
    "start_time": "2021-10-26T06:45:18.719Z"
   },
   {
    "duration": 18,
    "start_time": "2021-10-26T06:45:18.747Z"
   },
   {
    "duration": 49,
    "start_time": "2021-10-26T06:45:18.768Z"
   },
   {
    "duration": 17,
    "start_time": "2021-10-26T06:45:18.820Z"
   },
   {
    "duration": 20,
    "start_time": "2021-10-26T06:45:18.840Z"
   },
   {
    "duration": 18,
    "start_time": "2021-10-26T06:45:18.901Z"
   },
   {
    "duration": 13,
    "start_time": "2021-10-26T06:45:18.922Z"
   },
   {
    "duration": 31,
    "start_time": "2021-10-26T06:45:18.937Z"
   },
   {
    "duration": 52,
    "start_time": "2021-10-26T06:45:18.970Z"
   },
   {
    "duration": 5,
    "start_time": "2021-10-26T06:45:19.025Z"
   },
   {
    "duration": 35,
    "start_time": "2021-10-26T06:45:19.032Z"
   },
   {
    "duration": 54,
    "start_time": "2021-10-26T06:45:19.069Z"
   },
   {
    "duration": 28,
    "start_time": "2021-10-26T06:45:19.126Z"
   },
   {
    "duration": 60,
    "start_time": "2021-10-26T06:45:19.157Z"
   },
   {
    "duration": 3,
    "start_time": "2021-10-26T06:45:19.220Z"
   },
   {
    "duration": 9,
    "start_time": "2021-10-26T06:45:19.226Z"
   },
   {
    "duration": 6,
    "start_time": "2021-10-26T06:45:19.237Z"
   },
   {
    "duration": 6,
    "start_time": "2021-10-26T06:45:19.245Z"
   },
   {
    "duration": 3,
    "start_time": "2021-10-26T06:54:01.600Z"
   },
   {
    "duration": 225,
    "start_time": "2021-10-26T06:54:01.606Z"
   },
   {
    "duration": 15,
    "start_time": "2021-10-26T06:54:01.834Z"
   },
   {
    "duration": 60,
    "start_time": "2021-10-26T06:54:01.851Z"
   },
   {
    "duration": 8,
    "start_time": "2021-10-26T06:54:01.913Z"
   },
   {
    "duration": 38,
    "start_time": "2021-10-26T06:54:01.924Z"
   },
   {
    "duration": 4,
    "start_time": "2021-10-26T06:54:01.966Z"
   },
   {
    "duration": 53,
    "start_time": "2021-10-26T06:54:01.973Z"
   },
   {
    "duration": 38,
    "start_time": "2021-10-26T06:54:02.028Z"
   },
   {
    "duration": 29,
    "start_time": "2021-10-26T06:54:02.068Z"
   },
   {
    "duration": 93,
    "start_time": "2021-10-26T06:54:02.100Z"
   },
   {
    "duration": 111,
    "start_time": "2021-10-26T06:54:02.195Z"
   },
   {
    "duration": 92,
    "start_time": "2021-10-26T06:54:02.308Z"
   },
   {
    "duration": 8,
    "start_time": "2021-10-26T06:54:02.403Z"
   },
   {
    "duration": 22,
    "start_time": "2021-10-26T06:54:02.414Z"
   },
   {
    "duration": 43,
    "start_time": "2021-10-26T06:54:02.439Z"
   },
   {
    "duration": 12,
    "start_time": "2021-10-26T06:54:02.484Z"
   },
   {
    "duration": 32,
    "start_time": "2021-10-26T06:54:02.499Z"
   },
   {
    "duration": 14,
    "start_time": "2021-10-26T06:54:02.536Z"
   },
   {
    "duration": 4,
    "start_time": "2021-10-26T06:54:02.554Z"
   },
   {
    "duration": 32,
    "start_time": "2021-10-26T06:54:02.561Z"
   },
   {
    "duration": 27,
    "start_time": "2021-10-26T06:54:02.595Z"
   },
   {
    "duration": 22,
    "start_time": "2021-10-26T06:54:02.625Z"
   },
   {
    "duration": 18,
    "start_time": "2021-10-26T06:54:02.649Z"
   },
   {
    "duration": 48,
    "start_time": "2021-10-26T06:54:02.670Z"
   },
   {
    "duration": 22,
    "start_time": "2021-10-26T06:54:02.721Z"
   },
   {
    "duration": 12,
    "start_time": "2021-10-26T06:54:02.745Z"
   },
   {
    "duration": 71,
    "start_time": "2021-10-26T06:54:02.759Z"
   },
   {
    "duration": 37,
    "start_time": "2021-10-26T06:54:02.833Z"
   },
   {
    "duration": 7,
    "start_time": "2021-10-26T06:54:02.873Z"
   },
   {
    "duration": 53,
    "start_time": "2021-10-26T06:54:02.882Z"
   },
   {
    "duration": 30,
    "start_time": "2021-10-26T06:54:02.937Z"
   },
   {
    "duration": 55,
    "start_time": "2021-10-26T06:54:02.970Z"
   },
   {
    "duration": 29,
    "start_time": "2021-10-26T06:54:03.028Z"
   },
   {
    "duration": 4,
    "start_time": "2021-10-26T06:54:03.060Z"
   },
   {
    "duration": 19,
    "start_time": "2021-10-26T06:54:03.067Z"
   },
   {
    "duration": 5,
    "start_time": "2021-10-26T06:54:03.101Z"
   },
   {
    "duration": 6,
    "start_time": "2021-10-26T06:54:03.109Z"
   },
   {
    "duration": 4,
    "start_time": "2021-10-26T06:56:06.219Z"
   },
   {
    "duration": 202,
    "start_time": "2021-10-26T06:56:06.225Z"
   },
   {
    "duration": 16,
    "start_time": "2021-10-26T06:56:06.430Z"
   },
   {
    "duration": 56,
    "start_time": "2021-10-26T06:56:06.449Z"
   },
   {
    "duration": 4,
    "start_time": "2021-10-26T06:56:06.508Z"
   },
   {
    "duration": 20,
    "start_time": "2021-10-26T06:56:06.515Z"
   },
   {
    "duration": 5,
    "start_time": "2021-10-26T06:56:06.538Z"
   },
   {
    "duration": 79,
    "start_time": "2021-10-26T06:56:06.549Z"
   },
   {
    "duration": 22,
    "start_time": "2021-10-26T06:56:06.633Z"
   },
   {
    "duration": 57,
    "start_time": "2021-10-26T06:56:06.658Z"
   },
   {
    "duration": 99,
    "start_time": "2021-10-26T06:56:06.718Z"
   },
   {
    "duration": 121,
    "start_time": "2021-10-26T06:56:06.820Z"
   },
   {
    "duration": 90,
    "start_time": "2021-10-26T06:56:06.944Z"
   },
   {
    "duration": 10,
    "start_time": "2021-10-26T06:56:07.037Z"
   },
   {
    "duration": 5,
    "start_time": "2021-10-26T06:56:07.050Z"
   },
   {
    "duration": 54,
    "start_time": "2021-10-26T06:56:07.057Z"
   },
   {
    "duration": 10,
    "start_time": "2021-10-26T06:56:07.113Z"
   },
   {
    "duration": 17,
    "start_time": "2021-10-26T06:56:07.126Z"
   },
   {
    "duration": 14,
    "start_time": "2021-10-26T06:56:07.146Z"
   },
   {
    "duration": 42,
    "start_time": "2021-10-26T06:56:07.162Z"
   },
   {
    "duration": 26,
    "start_time": "2021-10-26T06:56:07.207Z"
   },
   {
    "duration": 20,
    "start_time": "2021-10-26T06:56:07.236Z"
   },
   {
    "duration": 63,
    "start_time": "2021-10-26T06:56:07.261Z"
   },
   {
    "duration": 21,
    "start_time": "2021-10-26T06:56:07.327Z"
   },
   {
    "duration": 51,
    "start_time": "2021-10-26T06:56:07.350Z"
   },
   {
    "duration": 18,
    "start_time": "2021-10-26T06:56:07.404Z"
   },
   {
    "duration": 11,
    "start_time": "2021-10-26T06:56:07.425Z"
   },
   {
    "duration": 29,
    "start_time": "2021-10-26T06:56:07.439Z"
   },
   {
    "duration": 52,
    "start_time": "2021-10-26T06:56:07.471Z"
   },
   {
    "duration": 5,
    "start_time": "2021-10-26T06:56:07.526Z"
   },
   {
    "duration": 45,
    "start_time": "2021-10-26T06:56:07.533Z"
   },
   {
    "duration": 37,
    "start_time": "2021-10-26T06:56:07.580Z"
   },
   {
    "duration": 26,
    "start_time": "2021-10-26T06:56:07.620Z"
   },
   {
    "duration": 27,
    "start_time": "2021-10-26T06:56:07.648Z"
   },
   {
    "duration": 3,
    "start_time": "2021-10-26T06:56:07.701Z"
   },
   {
    "duration": 19,
    "start_time": "2021-10-26T06:56:07.705Z"
   },
   {
    "duration": 14,
    "start_time": "2021-10-26T06:56:07.726Z"
   },
   {
    "duration": 12,
    "start_time": "2021-10-26T06:56:07.743Z"
   },
   {
    "duration": 29,
    "start_time": "2021-10-26T06:56:28.535Z"
   },
   {
    "duration": 32,
    "start_time": "2021-10-26T06:56:52.759Z"
   },
   {
    "duration": 4,
    "start_time": "2021-10-26T06:56:57.769Z"
   },
   {
    "duration": 213,
    "start_time": "2021-10-26T06:56:57.777Z"
   },
   {
    "duration": 20,
    "start_time": "2021-10-26T06:56:57.993Z"
   },
   {
    "duration": 34,
    "start_time": "2021-10-26T06:56:58.016Z"
   },
   {
    "duration": 4,
    "start_time": "2021-10-26T06:56:58.052Z"
   },
   {
    "duration": 58,
    "start_time": "2021-10-26T06:56:58.059Z"
   },
   {
    "duration": 4,
    "start_time": "2021-10-26T06:56:58.121Z"
   },
   {
    "duration": 33,
    "start_time": "2021-10-26T06:56:58.128Z"
   },
   {
    "duration": 48,
    "start_time": "2021-10-26T06:56:58.164Z"
   },
   {
    "duration": 30,
    "start_time": "2021-10-26T06:56:58.214Z"
   },
   {
    "duration": 111,
    "start_time": "2021-10-26T06:56:58.247Z"
   },
   {
    "duration": 108,
    "start_time": "2021-10-26T06:56:58.361Z"
   },
   {
    "duration": 95,
    "start_time": "2021-10-26T06:56:58.471Z"
   },
   {
    "duration": 8,
    "start_time": "2021-10-26T06:56:58.568Z"
   },
   {
    "duration": 5,
    "start_time": "2021-10-26T06:56:58.578Z"
   },
   {
    "duration": 35,
    "start_time": "2021-10-26T06:56:58.585Z"
   },
   {
    "duration": 7,
    "start_time": "2021-10-26T06:56:58.623Z"
   },
   {
    "duration": 13,
    "start_time": "2021-10-26T06:56:58.632Z"
   },
   {
    "duration": 53,
    "start_time": "2021-10-26T06:56:58.649Z"
   },
   {
    "duration": 5,
    "start_time": "2021-10-26T06:56:58.705Z"
   },
   {
    "duration": 31,
    "start_time": "2021-10-26T06:56:58.712Z"
   },
   {
    "duration": 17,
    "start_time": "2021-10-26T06:56:58.746Z"
   },
   {
    "duration": 44,
    "start_time": "2021-10-26T06:56:58.766Z"
   },
   {
    "duration": 18,
    "start_time": "2021-10-26T06:56:58.812Z"
   },
   {
    "duration": 21,
    "start_time": "2021-10-26T06:56:58.832Z"
   },
   {
    "duration": 46,
    "start_time": "2021-10-26T06:56:58.855Z"
   },
   {
    "duration": 11,
    "start_time": "2021-10-26T06:56:58.904Z"
   },
   {
    "duration": 28,
    "start_time": "2021-10-26T06:56:58.918Z"
   },
   {
    "duration": 56,
    "start_time": "2021-10-26T06:56:58.948Z"
   },
   {
    "duration": 6,
    "start_time": "2021-10-26T06:56:59.006Z"
   },
   {
    "duration": 35,
    "start_time": "2021-10-26T06:56:59.014Z"
   },
   {
    "duration": 48,
    "start_time": "2021-10-26T06:56:59.052Z"
   },
   {
    "duration": 29,
    "start_time": "2021-10-26T06:56:59.103Z"
   },
   {
    "duration": 29,
    "start_time": "2021-10-26T06:56:59.134Z"
   },
   {
    "duration": 3,
    "start_time": "2021-10-26T06:56:59.165Z"
   },
   {
    "duration": 3,
    "start_time": "2021-10-26T06:56:59.200Z"
   },
   {
    "duration": 6,
    "start_time": "2021-10-26T06:56:59.206Z"
   },
   {
    "duration": 7,
    "start_time": "2021-10-26T06:56:59.214Z"
   },
   {
    "duration": 3,
    "start_time": "2021-10-26T06:58:26.267Z"
   },
   {
    "duration": 221,
    "start_time": "2021-10-26T06:58:26.273Z"
   },
   {
    "duration": 17,
    "start_time": "2021-10-26T06:58:26.501Z"
   },
   {
    "duration": 41,
    "start_time": "2021-10-26T06:58:26.521Z"
   },
   {
    "duration": 11,
    "start_time": "2021-10-26T06:58:26.565Z"
   },
   {
    "duration": 26,
    "start_time": "2021-10-26T06:58:26.601Z"
   },
   {
    "duration": 6,
    "start_time": "2021-10-26T06:58:26.632Z"
   },
   {
    "duration": 67,
    "start_time": "2021-10-26T06:58:26.641Z"
   },
   {
    "duration": 24,
    "start_time": "2021-10-26T06:58:26.710Z"
   },
   {
    "duration": 33,
    "start_time": "2021-10-26T06:58:26.736Z"
   },
   {
    "duration": 112,
    "start_time": "2021-10-26T06:58:26.771Z"
   },
   {
    "duration": 121,
    "start_time": "2021-10-26T06:58:26.886Z"
   },
   {
    "duration": 93,
    "start_time": "2021-10-26T06:58:27.009Z"
   },
   {
    "duration": 8,
    "start_time": "2021-10-26T06:58:27.104Z"
   },
   {
    "duration": 4,
    "start_time": "2021-10-26T06:58:27.115Z"
   },
   {
    "duration": 31,
    "start_time": "2021-10-26T06:58:27.121Z"
   },
   {
    "duration": 7,
    "start_time": "2021-10-26T06:58:27.155Z"
   },
   {
    "duration": 44,
    "start_time": "2021-10-26T06:58:27.165Z"
   },
   {
    "duration": 14,
    "start_time": "2021-10-26T06:58:27.216Z"
   },
   {
    "duration": 6,
    "start_time": "2021-10-26T06:58:27.233Z"
   },
   {
    "duration": 59,
    "start_time": "2021-10-26T06:58:27.241Z"
   },
   {
    "duration": 19,
    "start_time": "2021-10-26T06:58:27.303Z"
   },
   {
    "duration": 25,
    "start_time": "2021-10-26T06:58:27.324Z"
   },
   {
    "duration": 18,
    "start_time": "2021-10-26T06:58:27.352Z"
   },
   {
    "duration": 46,
    "start_time": "2021-10-26T06:58:27.372Z"
   },
   {
    "duration": 17,
    "start_time": "2021-10-26T06:58:27.421Z"
   },
   {
    "duration": 12,
    "start_time": "2021-10-26T06:58:27.441Z"
   },
   {
    "duration": 62,
    "start_time": "2021-10-26T06:58:27.455Z"
   },
   {
    "duration": 23,
    "start_time": "2021-10-26T06:58:27.520Z"
   },
   {
    "duration": 6,
    "start_time": "2021-10-26T06:58:27.545Z"
   },
   {
    "duration": 56,
    "start_time": "2021-10-26T06:58:27.553Z"
   },
   {
    "duration": 16,
    "start_time": "2021-10-26T06:58:27.612Z"
   },
   {
    "duration": 24,
    "start_time": "2021-10-26T06:58:27.631Z"
   },
   {
    "duration": 45,
    "start_time": "2021-10-26T06:58:27.657Z"
   },
   {
    "duration": 2,
    "start_time": "2021-10-26T06:58:27.705Z"
   },
   {
    "duration": 6,
    "start_time": "2021-10-26T06:58:27.709Z"
   },
   {
    "duration": 8,
    "start_time": "2021-10-26T06:58:27.717Z"
   },
   {
    "duration": 6,
    "start_time": "2021-10-26T06:58:27.728Z"
   },
   {
    "duration": 5,
    "start_time": "2021-10-26T07:00:15.192Z"
   },
   {
    "duration": 24,
    "start_time": "2021-10-26T07:00:18.053Z"
   },
   {
    "duration": 25,
    "start_time": "2021-10-26T07:00:19.397Z"
   },
   {
    "duration": 26,
    "start_time": "2021-10-26T07:00:21.549Z"
   },
   {
    "duration": 18,
    "start_time": "2021-10-26T07:00:23.780Z"
   },
   {
    "duration": 24,
    "start_time": "2021-10-26T07:08:25.266Z"
   },
   {
    "duration": 18,
    "start_time": "2021-10-26T07:08:36.985Z"
   },
   {
    "duration": 25,
    "start_time": "2021-10-26T07:08:42.105Z"
   },
   {
    "duration": 18,
    "start_time": "2021-10-26T07:08:43.864Z"
   },
   {
    "duration": 407,
    "start_time": "2021-10-26T07:14:46.938Z"
   },
   {
    "duration": 11,
    "start_time": "2021-10-26T07:15:40.591Z"
   },
   {
    "duration": 5,
    "start_time": "2021-10-26T07:24:22.194Z"
   },
   {
    "duration": 11,
    "start_time": "2021-10-26T07:25:45.439Z"
   },
   {
    "duration": 6,
    "start_time": "2021-10-26T07:26:33.172Z"
   },
   {
    "duration": 4,
    "start_time": "2021-10-26T07:28:36.193Z"
   },
   {
    "duration": 238,
    "start_time": "2021-10-26T07:28:36.200Z"
   },
   {
    "duration": 15,
    "start_time": "2021-10-26T07:28:36.441Z"
   },
   {
    "duration": 55,
    "start_time": "2021-10-26T07:28:36.459Z"
   },
   {
    "duration": 5,
    "start_time": "2021-10-26T07:28:36.516Z"
   },
   {
    "duration": 29,
    "start_time": "2021-10-26T07:28:36.524Z"
   },
   {
    "duration": 4,
    "start_time": "2021-10-26T07:28:36.557Z"
   },
   {
    "duration": 61,
    "start_time": "2021-10-26T07:28:36.564Z"
   },
   {
    "duration": 23,
    "start_time": "2021-10-26T07:28:36.628Z"
   },
   {
    "duration": 51,
    "start_time": "2021-10-26T07:28:36.653Z"
   },
   {
    "duration": 103,
    "start_time": "2021-10-26T07:28:36.707Z"
   },
   {
    "duration": 114,
    "start_time": "2021-10-26T07:28:36.812Z"
   },
   {
    "duration": 90,
    "start_time": "2021-10-26T07:28:36.929Z"
   },
   {
    "duration": 10,
    "start_time": "2021-10-26T07:28:37.022Z"
   },
   {
    "duration": 4,
    "start_time": "2021-10-26T07:28:37.035Z"
   },
   {
    "duration": 64,
    "start_time": "2021-10-26T07:28:37.042Z"
   },
   {
    "duration": 12,
    "start_time": "2021-10-26T07:28:37.110Z"
   },
   {
    "duration": 20,
    "start_time": "2021-10-26T07:28:37.125Z"
   },
   {
    "duration": 52,
    "start_time": "2021-10-26T07:28:37.152Z"
   },
   {
    "duration": 7,
    "start_time": "2021-10-26T07:28:37.208Z"
   },
   {
    "duration": 39,
    "start_time": "2021-10-26T07:28:37.219Z"
   },
   {
    "duration": 50,
    "start_time": "2021-10-26T07:28:37.261Z"
   },
   {
    "duration": 20,
    "start_time": "2021-10-26T07:28:37.313Z"
   },
   {
    "duration": 18,
    "start_time": "2021-10-26T07:28:37.335Z"
   },
   {
    "duration": 54,
    "start_time": "2021-10-26T07:28:37.355Z"
   },
   {
    "duration": 19,
    "start_time": "2021-10-26T07:28:37.412Z"
   },
   {
    "duration": 12,
    "start_time": "2021-10-26T07:28:37.435Z"
   },
   {
    "duration": 60,
    "start_time": "2021-10-26T07:28:37.450Z"
   },
   {
    "duration": 20,
    "start_time": "2021-10-26T07:28:37.513Z"
   },
   {
    "duration": 5,
    "start_time": "2021-10-26T07:28:37.536Z"
   },
   {
    "duration": 59,
    "start_time": "2021-10-26T07:28:37.543Z"
   },
   {
    "duration": 21,
    "start_time": "2021-10-26T07:28:37.605Z"
   },
   {
    "duration": 29,
    "start_time": "2021-10-26T07:28:37.628Z"
   },
   {
    "duration": 47,
    "start_time": "2021-10-26T07:28:37.659Z"
   },
   {
    "duration": 11,
    "start_time": "2021-10-26T07:28:37.708Z"
   },
   {
    "duration": 5,
    "start_time": "2021-10-26T07:28:37.721Z"
   },
   {
    "duration": 13,
    "start_time": "2021-10-26T07:28:37.729Z"
   },
   {
    "duration": 7,
    "start_time": "2021-10-26T07:28:37.744Z"
   },
   {
    "duration": 4,
    "start_time": "2021-10-26T07:37:44.935Z"
   },
   {
    "duration": 410,
    "start_time": "2021-10-26T07:37:44.942Z"
   },
   {
    "duration": 15,
    "start_time": "2021-10-26T07:37:45.354Z"
   },
   {
    "duration": 58,
    "start_time": "2021-10-26T07:37:45.372Z"
   },
   {
    "duration": 5,
    "start_time": "2021-10-26T07:37:45.432Z"
   },
   {
    "duration": 34,
    "start_time": "2021-10-26T07:37:45.439Z"
   },
   {
    "duration": 26,
    "start_time": "2021-10-26T07:37:45.477Z"
   },
   {
    "duration": 33,
    "start_time": "2021-10-26T07:37:45.506Z"
   },
   {
    "duration": 26,
    "start_time": "2021-10-26T07:37:45.542Z"
   },
   {
    "duration": 56,
    "start_time": "2021-10-26T07:37:45.571Z"
   },
   {
    "duration": 110,
    "start_time": "2021-10-26T07:37:45.630Z"
   },
   {
    "duration": 113,
    "start_time": "2021-10-26T07:37:45.743Z"
   },
   {
    "duration": 88,
    "start_time": "2021-10-26T07:37:45.858Z"
   },
   {
    "duration": 8,
    "start_time": "2021-10-26T07:37:45.949Z"
   },
   {
    "duration": 5,
    "start_time": "2021-10-26T07:37:45.960Z"
   },
   {
    "duration": 49,
    "start_time": "2021-10-26T07:37:45.967Z"
   },
   {
    "duration": 9,
    "start_time": "2021-10-26T07:37:46.018Z"
   },
   {
    "duration": 16,
    "start_time": "2021-10-26T07:37:46.030Z"
   },
   {
    "duration": 12,
    "start_time": "2021-10-26T07:37:46.051Z"
   },
   {
    "duration": 34,
    "start_time": "2021-10-26T07:37:46.066Z"
   },
   {
    "duration": 33,
    "start_time": "2021-10-26T07:37:46.103Z"
   },
   {
    "duration": 18,
    "start_time": "2021-10-26T07:37:46.139Z"
   },
   {
    "duration": 43,
    "start_time": "2021-10-26T07:37:46.159Z"
   },
   {
    "duration": 19,
    "start_time": "2021-10-26T07:37:46.205Z"
   },
   {
    "duration": 23,
    "start_time": "2021-10-26T07:37:46.227Z"
   },
   {
    "duration": 53,
    "start_time": "2021-10-26T07:37:46.252Z"
   },
   {
    "duration": 13,
    "start_time": "2021-10-26T07:37:46.308Z"
   },
   {
    "duration": 38,
    "start_time": "2021-10-26T07:37:46.324Z"
   },
   {
    "duration": 48,
    "start_time": "2021-10-26T07:37:46.365Z"
   },
   {
    "duration": 5,
    "start_time": "2021-10-26T07:37:46.415Z"
   },
   {
    "duration": 33,
    "start_time": "2021-10-26T07:37:46.423Z"
   },
   {
    "duration": 48,
    "start_time": "2021-10-26T07:37:46.459Z"
   },
   {
    "duration": 25,
    "start_time": "2021-10-26T07:37:46.509Z"
   },
   {
    "duration": 27,
    "start_time": "2021-10-26T07:37:46.536Z"
   },
   {
    "duration": 36,
    "start_time": "2021-10-26T07:37:46.566Z"
   },
   {
    "duration": 6,
    "start_time": "2021-10-26T07:37:46.604Z"
   },
   {
    "duration": 13,
    "start_time": "2021-10-26T07:37:46.612Z"
   },
   {
    "duration": 6,
    "start_time": "2021-10-26T07:37:46.627Z"
   },
   {
    "duration": 577,
    "start_time": "2021-10-26T13:36:28.870Z"
   },
   {
    "duration": 170,
    "start_time": "2021-10-26T13:36:29.449Z"
   },
   {
    "duration": 15,
    "start_time": "2021-10-26T13:36:29.621Z"
   },
   {
    "duration": 26,
    "start_time": "2021-10-26T13:36:29.638Z"
   },
   {
    "duration": 10,
    "start_time": "2021-10-26T13:36:29.665Z"
   },
   {
    "duration": 21,
    "start_time": "2021-10-26T13:36:29.677Z"
   },
   {
    "duration": 3,
    "start_time": "2021-10-26T13:36:29.700Z"
   },
   {
    "duration": 30,
    "start_time": "2021-10-26T13:36:29.705Z"
   },
   {
    "duration": 16,
    "start_time": "2021-10-26T13:36:29.745Z"
   },
   {
    "duration": 22,
    "start_time": "2021-10-26T13:36:29.763Z"
   },
   {
    "duration": 71,
    "start_time": "2021-10-26T13:36:29.787Z"
   },
   {
    "duration": 65,
    "start_time": "2021-10-26T13:36:29.860Z"
   },
   {
    "duration": 58,
    "start_time": "2021-10-26T13:36:29.926Z"
   },
   {
    "duration": 5,
    "start_time": "2021-10-26T13:36:29.986Z"
   },
   {
    "duration": 5,
    "start_time": "2021-10-26T13:36:29.993Z"
   },
   {
    "duration": 25,
    "start_time": "2021-10-26T13:36:29.999Z"
   },
   {
    "duration": 21,
    "start_time": "2021-10-26T13:36:30.025Z"
   },
   {
    "duration": 12,
    "start_time": "2021-10-26T13:36:30.048Z"
   },
   {
    "duration": 11,
    "start_time": "2021-10-26T13:36:30.061Z"
   },
   {
    "duration": 3,
    "start_time": "2021-10-26T13:36:30.074Z"
   },
   {
    "duration": 26,
    "start_time": "2021-10-26T13:36:30.079Z"
   },
   {
    "duration": 18,
    "start_time": "2021-10-26T13:36:30.107Z"
   },
   {
    "duration": 14,
    "start_time": "2021-10-26T13:36:30.144Z"
   },
   {
    "duration": 13,
    "start_time": "2021-10-26T13:36:30.160Z"
   },
   {
    "duration": 28,
    "start_time": "2021-10-26T13:36:30.174Z"
   },
   {
    "duration": 24,
    "start_time": "2021-10-26T13:36:30.204Z"
   },
   {
    "duration": 17,
    "start_time": "2021-10-26T13:36:30.230Z"
   },
   {
    "duration": 23,
    "start_time": "2021-10-26T13:36:30.248Z"
   },
   {
    "duration": 14,
    "start_time": "2021-10-26T13:36:30.273Z"
   },
   {
    "duration": 4,
    "start_time": "2021-10-26T13:36:30.288Z"
   },
   {
    "duration": 24,
    "start_time": "2021-10-26T13:36:30.293Z"
   },
   {
    "duration": 33,
    "start_time": "2021-10-26T13:36:30.319Z"
   },
   {
    "duration": 16,
    "start_time": "2021-10-26T13:36:30.354Z"
   },
   {
    "duration": 17,
    "start_time": "2021-10-26T13:36:30.372Z"
   },
   {
    "duration": 15,
    "start_time": "2021-10-26T13:36:30.390Z"
   },
   {
    "duration": 7,
    "start_time": "2021-10-26T13:36:30.407Z"
   },
   {
    "duration": 11,
    "start_time": "2021-10-26T13:36:30.416Z"
   },
   {
    "duration": 5,
    "start_time": "2021-10-26T13:36:30.445Z"
   },
   {
    "duration": 61,
    "start_time": "2021-10-26T13:42:34.981Z"
   },
   {
    "duration": 121,
    "start_time": "2021-10-26T14:24:56.778Z"
   },
   {
    "duration": 6,
    "start_time": "2021-10-26T14:25:24.554Z"
   }
  ],
  "colab": {
   "collapsed_sections": [
    "E0vqbgi9ay0H",
    "VUC88oWjTJw2"
   ],
   "name": "yandex_music_project_2021.2.ipynb",
   "provenance": []
  },
  "kernelspec": {
   "display_name": "Python 3 (ipykernel)",
   "language": "python",
   "name": "python3"
  },
  "language_info": {
   "codemirror_mode": {
    "name": "ipython",
    "version": 3
   },
   "file_extension": ".py",
   "mimetype": "text/x-python",
   "name": "python",
   "nbconvert_exporter": "python",
   "pygments_lexer": "ipython3",
   "version": "3.8.10"
  },
  "toc": {
   "base_numbering": 1,
   "nav_menu": {},
   "number_sections": true,
   "sideBar": true,
   "skip_h1_title": true,
   "title_cell": "Table of Contents",
   "title_sidebar": "Contents",
   "toc_cell": false,
   "toc_position": {},
   "toc_section_display": true,
   "toc_window_display": true
  }
 },
 "nbformat": 4,
 "nbformat_minor": 4
}
